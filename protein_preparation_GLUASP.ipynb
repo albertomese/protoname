{
 "cells": [
  {
   "cell_type": "code",
   "execution_count": 1,
   "metadata": {
    "collapsed": false
   },
   "outputs": [
    {
     "name": "stdout",
     "output_type": "stream",
     "text": [
      "Please cite. HTMD: High-Throughput Molecular Dynamics for Molecular Discovery, J. Chem. Theory Comput., 2016, 12 (4), pp 1845-1852. \n",
      "http://pubs.acs.org/doi/abs/10.1021/acs.jctc.6b00049\n",
      "\n",
      "\n",
      "You are on the latest HTMD version (1.0.27).\n"
     ]
    }
   ],
   "source": [
    "from htmd import *"
   ]
  },
  {
   "cell_type": "code",
   "execution_count": 2,
   "metadata": {
    "collapsed": false
   },
   "outputs": [
    {
     "name": "stderr",
     "output_type": "stream",
     "text": [
      "2016-06-15 19:22:52,497 - htmd.molecule.molecule - INFO - Attempting PDB query for 3PTB\n",
      "2016-06-15 19:22:53,299 - htmd.molecule.molecule - INFO - Removed 72 atoms. 1629 atoms remaining in the molecule.\n"
     ]
    }
   ],
   "source": [
    "mol = Molecule('3PTB')\n",
    "mol.filter(\"protein\")"
   ]
  },
  {
   "cell_type": "markdown",
   "metadata": {},
   "source": [
    "KNOWN:\n",
    "   - Donors:\n",
    "        - ARG protonated* name NH1 NH2\n",
    "        - LYS protonated* name NZ\n",
    "   - Acceptors:\n",
    "        - ASP deprotonated* name OD2 OD1\n",
    "        - GLU deprotonated* name OE1 OE2\n",
    "\n",
    "UNKNWON:\n",
    "   - TYR name OH\n",
    "   - HIS – There are 6 alternates for HIS, two rotomers and then 3 protonation states for each name ND1 NE2\n",
    "   - CYS – disulfide bonded or not – name SG\n",
    "\n",
    "CONFLICT:\n",
    "   - ASN – There are 2 alternates – simple 180 degree rotations name ND2 OD1\n",
    "   - GLN – There are 2 alternates – simple 180 degree rotations name OE1 NE2\n",
    "   - SER name OG\n",
    "   - THR name OG1\n",
    "\n",
    "Backbone name O, N\n",
    "   \n",
    "UNCLASSIFIED: \n",
    "   - ALA\n",
    "   - GLY\n",
    "   - ILE\n",
    "   - LEU\n",
    "   - PRO \n",
    "   - VAL\n",
    "   - MET"
   ]
  },
  {
   "cell_type": "code",
   "execution_count": 3,
   "metadata": {
    "collapsed": false
   },
   "outputs": [],
   "source": [
    "copied = mol.copy()"
   ]
  },
  {
   "cell_type": "code",
   "execution_count": 7,
   "metadata": {
    "collapsed": true
   },
   "outputs": [],
   "source": [
    "mol.view()"
   ]
  },
  {
   "cell_type": "code",
   "execution_count": 4,
   "metadata": {
    "collapsed": false
   },
   "outputs": [
    {
     "name": "stderr",
     "output_type": "stream",
     "text": [
      "2016-06-15 19:23:05,133 - htmd.molecule.molecule - INFO - Removed 1175 atoms. 454 atoms remaining in the molecule.\n"
     ]
    }
   ],
   "source": [
    "copied.filter('resname ARG LYS ASP GLU HIS CYS TYR')"
   ]
  },
  {
   "cell_type": "code",
   "execution_count": 5,
   "metadata": {
    "collapsed": false
   },
   "outputs": [],
   "source": [
    "rid = np.unique(copied.get('resid')) # ia.resid also works!\n",
    "rn = copied.get('resname', \"name CA\")"
   ]
  },
  {
   "cell_type": "code",
   "execution_count": 10,
   "metadata": {
    "collapsed": false
   },
   "outputs": [
    {
     "name": "stdout",
     "output_type": "stream",
     "text": [
      "[70 71 72 80] resid 70\n",
      "71 70\n",
      "80 70\n",
      "[72 77] resid 77\n",
      "[70 75 77 78 79 80] resid 80\n",
      "70 80\n",
      "77 80\n",
      "[186 187] resid 186\n"
     ]
    }
   ],
   "source": [
    "for resname, resid in zip(rn, rid):\n",
    "    if resname == \"GLU\":\n",
    "        a = mol.get(\"resid\", sel=\"name O N OH OG1 OG OE1 NE2 ND2 OE2 SG ND1 NH1 OD1 OD2 NZ NH2 and within 4 of name OE1 OE2 and resid \"+str(resid))\n",
    "        print(np.unique(a), \"resid\", resid)\n",
    "        for residueID in np.unique(a):\n",
    "            if np.unique(mol.get(\"resname\", sel=\"resid \"+str(residueID))) in [\"GLU\", \"ASP\"] and residueID != resid:\n",
    "                print(residueID, resid)\n",
    "            "
   ]
  },
  {
   "cell_type": "code",
   "execution_count": null,
   "metadata": {
    "collapsed": false
   },
   "outputs": [],
   "source": [
    "np.unique(mol.get(\"name\",\"resname LYS\"))"
   ]
  },
  {
   "cell_type": "code",
   "execution_count": null,
   "metadata": {
    "collapsed": true
   },
   "outputs": [],
   "source": []
  }
 ],
 "metadata": {
  "kernelspec": {
   "display_name": "Python 3",
   "language": "python",
   "name": "python3"
  },
  "language_info": {
   "codemirror_mode": {
    "name": "ipython",
    "version": 3
   },
   "file_extension": ".py",
   "mimetype": "text/x-python",
   "name": "python",
   "nbconvert_exporter": "python",
   "pygments_lexer": "ipython3",
   "version": "3.5.1"
  }
 },
 "nbformat": 4,
 "nbformat_minor": 0
}
