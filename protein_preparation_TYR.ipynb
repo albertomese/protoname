{
 "cells": [
  {
   "cell_type": "code",
   "execution_count": 1,
   "metadata": {
    "collapsed": false
   },
   "outputs": [
    {
     "name": "stdout",
     "output_type": "stream",
     "text": [
      "Please cite -- HTMD: High-Throughput Molecular Dynamics for Molecular Discovery\n",
      "J. Chem. Theory Comput., 2016, 12 (4), pp 1845-1852. \n",
      "http://pubs.acs.org/doi/abs/10.1021/acs.jctc.6b00049\n",
      "\n",
      "\n",
      "New HTMD version (1.1.0) is available. You are currently on (1.0.26). Use 'conda update htmd' to update to the new version.\n"
     ]
    }
   ],
   "source": [
    "from htmd import *"
   ]
  },
  {
   "cell_type": "code",
   "execution_count": 2,
   "metadata": {
    "collapsed": false
   },
   "outputs": [
    {
     "name": "stderr",
     "output_type": "stream",
     "text": [
      "2016-06-27 17:12:55,483 - htmd.molecule.molecule - INFO - Attempting PDB query for 3PTB\n",
      "2016-06-27 17:12:56,421 - htmd.molecule.molecule - INFO - Removed 72 atoms. 1629 atoms remaining in the molecule.\n"
     ]
    }
   ],
   "source": [
    "mol = Molecule('3PTB')\n",
    "mol.filter(\"protein\")"
   ]
  },
  {
   "cell_type": "markdown",
   "metadata": {},
   "source": [
    "KNOWN:\n",
    "   - Donors:\n",
    "        - ARG protonated* name NH1 NH2\n",
    "        - LYS protonated* name NZ\n",
    "   - Acceptors:\n",
    "        - ASP deprotonated* name OD2 OD1\n",
    "        - GLU deprotonated* name OE1 OE2\n",
    "\n",
    "UNKNWON:\n",
    "   - TYR name OH\n",
    "   - HIS – There are 6 alternates for HIS, two rotomers and then 3 protonation states for each name ND1 NE2\n",
    "   - CYS – disulfide bonded or not – name SG\n",
    "\n",
    "CONFLICT:\n",
    "   - ASN – There are 2 alternates – simple 180 degree rotations name ND2 OD1\n",
    "   - GLN – There are 2 alternates – simple 180 degree rotations name OE1 NE2\n",
    "   - SER name OG\n",
    "   - THR name OG1\n",
    "\n",
    "Backbone name O, N\n",
    "   \n",
    "UNCLASSIFIED: \n",
    "   - ALA\n",
    "   - GLY\n",
    "   - ILE\n",
    "   - LEU\n",
    "   - PRO \n",
    "   - VAL\n",
    "   - MET"
   ]
  },
  {
   "cell_type": "code",
   "execution_count": 3,
   "metadata": {
    "collapsed": false
   },
   "outputs": [],
   "source": [
    "copied = mol.copy()"
   ]
  },
  {
   "cell_type": "code",
   "execution_count": 5,
   "metadata": {
    "collapsed": false
   },
   "outputs": [
    {
     "name": "stderr",
     "output_type": "stream",
     "text": [
      "2016-06-27 17:12:58,741 - htmd.molecule.molecule - INFO - Removed 1175 atoms. 454 atoms remaining in the molecule.\n"
     ]
    }
   ],
   "source": [
    "copied.filter('resname ARG LYS ASP GLU HIS CYS TYR')"
   ]
  },
  {
   "cell_type": "code",
   "execution_count": 6,
   "metadata": {
    "collapsed": false
   },
   "outputs": [],
   "source": [
    "rid = np.unique(copied.get('resid')) # ia.resid also works!\n",
    "rn = copied.get('resname', \"name CA\")"
   ]
  },
  {
   "cell_type": "code",
   "execution_count": 17,
   "metadata": {
    "collapsed": false
   },
   "outputs": [
    {
     "name": "stdout",
     "output_type": "stream",
     "text": [
      "[ 20 159] ['LYS' 'TYR'] resid 20\n",
      "[29] ['TYR'] resid 29\n",
      "[37 39 60] ['LYS' 'SER' 'TYR'] resid 39\n",
      "[59] ['TYR'] resid 59\n",
      "[57 94] ['HIS' 'TYR'] resid 94\n",
      "[151 192] ['GLN' 'TYR'] resid 151\n",
      "[172 217 224 225] ['LYS' 'PRO' 'SER' 'TYR'] resid 172\n",
      "[159 184] ['LYS' 'TYR'] resid 184\n",
      "[190 228] ['SER' 'TYR'] resid 228\n",
      "[101 179 234] ['ASN' 'TYR'] resid 234\n"
     ]
    }
   ],
   "source": [
    "interest_selection = \"name O N OH OG1 OG OE1 NE2 ND2 OE2 SG ND1 NH1 OD1 OD2 NZ NH2 and within 4 of name OH and resid \"\n",
    "for resname, resid in zip(rn, rid):\n",
    "    if resname == \"TYR\":\n",
    "        b = mol.get(\"resid\", sel = interest_selection + str(resid))\n",
    "        c = mol.get(\"resname\", sel = interest_selection + str(resid))\n",
    "        print(np.unique(b), np.unique(c), \"resid\", resid)\n",
    "            "
   ]
  },
  {
   "cell_type": "markdown",
   "metadata": {
    "collapsed": true
   },
   "source": [
    "TYR:\n",
    "<br>\n",
    "20 - LYS 159 NZ. No problem\n",
    "<br>\n",
    "29 No problem, do not interact\n",
    "<br>\n",
    "39 - LYS 60 NZ and SER 37 OG (SER no seems a probable interaction)\n",
    "<br>\n",
    "59 No problem, do not interact\n",
    "<br>\n",
    "94 - HIS 57 N\n",
    "<br>\n",
    "151 - GLN 192 O \n",
    "<br>\n",
    "172 - SER 217 N and LYS 224 O and pro 225 O\n",
    "<br>\n",
    "184 - LYS 159 O\n",
    "<br>\n",
    "228 - SER 190 OG\n",
    "<br>\n",
    "234 - ASN 101 ND2 and ASN 179 ND2 (?)"
   ]
  },
  {
   "cell_type": "code",
   "execution_count": null,
   "metadata": {
    "collapsed": true
   },
   "outputs": [],
   "source": []
  }
 ],
 "metadata": {
  "kernelspec": {
   "display_name": "Python 3",
   "language": "python",
   "name": "python3"
  },
  "language_info": {
   "codemirror_mode": {
    "name": "ipython",
    "version": 3
   },
   "file_extension": ".py",
   "mimetype": "text/x-python",
   "name": "python",
   "nbconvert_exporter": "python",
   "pygments_lexer": "ipython3",
   "version": "3.5.1"
  }
 },
 "nbformat": 4,
 "nbformat_minor": 0
}
