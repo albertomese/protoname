{
 "cells": [
  {
   "cell_type": "code",
   "execution_count": 1,
   "metadata": {
    "collapsed": false
   },
   "outputs": [
    {
     "name": "stdout",
     "output_type": "stream",
     "text": [
      "Please cite -- HTMD: High-Throughput Molecular Dynamics for Molecular Discovery\n",
      "J. Chem. Theory Comput., 2016, 12 (4), pp 1845-1852. \n",
      "http://pubs.acs.org/doi/abs/10.1021/acs.jctc.6b00049\n",
      "\n",
      "\n"
     ]
    },
    {
     "name": "stderr",
     "output_type": "stream",
     "text": [
      "Using Anaconda Cloud api site https://api.anaconda.org\n"
     ]
    },
    {
     "name": "stdout",
     "output_type": "stream",
     "text": [
      "New HTMD version (1.1.0) is available. You are currently on (1.0.26). Use 'conda update htmd' to update to the new version.\n"
     ]
    }
   ],
   "source": [
    "from htmd import *"
   ]
  },
  {
   "cell_type": "code",
   "execution_count": 2,
   "metadata": {
    "collapsed": false
   },
   "outputs": [
    {
     "name": "stderr",
     "output_type": "stream",
     "text": [
      "2016-06-27 19:02:03,755 - htmd.molecule.molecule - INFO - Attempting PDB query for 3PTB\n",
      "2016-06-27 19:02:04,748 - htmd.molecule.molecule - INFO - Removed 72 atoms. 1629 atoms remaining in the molecule.\n"
     ]
    }
   ],
   "source": [
    "mol = Molecule('3PTB')\n",
    "mol.filter(\"protein\")"
   ]
  },
  {
   "cell_type": "code",
   "execution_count": 3,
   "metadata": {
    "collapsed": true
   },
   "outputs": [],
   "source": [
    "copied = mol.copy()"
   ]
  },
  {
   "cell_type": "code",
   "execution_count": 5,
   "metadata": {
    "collapsed": false
   },
   "outputs": [
    {
     "name": "stderr",
     "output_type": "stream",
     "text": [
      "2016-06-27 19:02:59,117 - htmd.molecule.molecule - INFO - Removed 1175 atoms. 454 atoms remaining in the molecule.\n"
     ]
    }
   ],
   "source": [
    "copied.filter('resname ARG LYS ASP GLU HIS CYS TYR')"
   ]
  },
  {
   "cell_type": "code",
   "execution_count": 6,
   "metadata": {
    "collapsed": true
   },
   "outputs": [],
   "source": [
    "rid = np.unique(copied.get('resid')) # ia.resid also works!\n",
    "rn = copied.get('resname', \"name CA\")"
   ]
  },
  {
   "cell_type": "code",
   "execution_count": 37,
   "metadata": {
    "collapsed": false
   },
   "outputs": [
    {
     "name": "stdout",
     "output_type": "stream",
     "text": [
      "[32 40 40 41 42] resid =  40\n",
      "['OG' 'ND1' 'NE2' 'N' 'O']\n",
      "test!  32 OG\n",
      "32 ['SER']\n",
      "41 ['PHE']\n",
      "42 ['CYS']\n",
      "[ 57  57  57 102 102 214] resid =  57\n",
      "['N' 'ND1' 'NE2' 'OD1' 'OD2' 'O']\n",
      "test!  57 N\n",
      "102 ['ASP']\n",
      "214 ['SER']\n",
      "[91 91 91 92 93 94] resid =  91\n",
      "['O' 'ND1' 'NE2' 'N' 'N' 'N']\n",
      "test!  91 O\n",
      "92 ['PRO']\n",
      "93 ['SER']\n",
      "94 ['TYR']\n"
     ]
    }
   ],
   "source": [
    "### This is for the ND1 atom\n",
    "for resname, resid in zip(rn, rid):\n",
    "    if resname == \"HIS\":\n",
    "        atomlist = [mol.get(\"resid\", sel=\"name O N OH OG1 OG OE1 NE2 ND2 OE2 SG ND1 NH1 OD1 OD2 NZ NH2 and within 4 of name ND1 and resid \"+str(resid)), mol.get(\"name\", sel=\"name O N OH OG1 OG OE1 NE2 ND2 OE2 SG ND1 NH1 OD1 OD2 NZ NH2 and within 4 of name ND1 and resid \"+str(resid))]\n",
    "        print (atomlist[0], \"resid = \",resid)\n",
    "        print(atomlist[1])\n",
    "        print(\"test! \", atomlist[0][0], atomlist[1][0])\n",
    "        for residueID in np.unique(atomlist[0]):\n",
    "            if residueID != resid:\n",
    "                print(residueID, np.unique(mol.get(\"resname\", sel=\"resid \"+str(residueID))),)\n",
    "        \n",
    "\n",
    "            "
   ]
  },
  {
   "cell_type": "code",
   "execution_count": 26,
   "metadata": {
    "collapsed": false
   },
   "outputs": [
    {
     "name": "stdout",
     "output_type": "stream",
     "text": [
      "[ 40  40  42  42 193] resid 40\n",
      "40 ['HIS'] ['N' 'CA' 'C' 'O' 'CB' 'CG' 'ND1' 'CD2' 'CE1' 'NE2']\n",
      "42 ['CYS'] ['N' 'CA' 'C' 'O' 'CB' 'SG']\n",
      "193 ['GLY'] ['N' 'CA' 'C' 'O']\n",
      "[ 57  57 195 214] resid 57\n",
      "57 ['HIS'] ['N' 'CA' 'C' 'O' 'CB' 'CG' 'ND1' 'CD2' 'CE1' 'NE2']\n",
      "195 ['SER'] ['N' 'CA' 'C' 'O' 'CB' 'OG']\n",
      "214 ['SER'] ['N' 'CA' 'C' 'O' 'CB' 'OG']\n",
      "[91 91] resid 91\n",
      "91 ['HIS'] ['N' 'CA' 'C' 'O' 'CB' 'CG' 'ND1' 'CD2' 'CE1' 'NE2']\n"
     ]
    }
   ],
   "source": [
    "### This is for the NE2 atom\n",
    "for resname, resid in zip(rn, rid):\n",
    "    if resname == \"HIS\":\n",
    "        a = mol.get(\"resid\", sel=\"name O N OH OG1 OG OE1 NE2 ND2 OE2 SG ND1 NH1 OD1 OD2 NZ NH2 and within 4 of name NE2 and resid \"+str(resid))\n",
    "        print(a, \"resid\", resid)\n",
    "        for residueID in np.unique(a):\n",
    "            print(residueID, np.unique(mol.get(\"resname\", sel=\"resid \"+str(residueID))), mol.get(\"name\", sel=\"resid \"+str(residueID)))"
   ]
  },
  {
   "cell_type": "code",
   "execution_count": 23,
   "metadata": {
    "collapsed": true
   },
   "outputs": [],
   "source": [
    "mol.view()\n"
   ]
  },
  {
   "cell_type": "markdown",
   "metadata": {},
   "source": [
    "Just realized proline can have an hidrogen in the nitrogen, and that Trp has a nitrogen that can be a donor. Article saying Cys sulfur is a moderately good hydrogen donor"
   ]
  }
 ],
 "metadata": {
  "kernelspec": {
   "display_name": "Python 3",
   "language": "python",
   "name": "python3"
  },
  "language_info": {
   "codemirror_mode": {
    "name": "ipython",
    "version": 3
   },
   "file_extension": ".py",
   "mimetype": "text/x-python",
   "name": "python",
   "nbconvert_exporter": "python",
   "pygments_lexer": "ipython3",
   "version": "3.5.1"
  }
 },
 "nbformat": 4,
 "nbformat_minor": 0
}
