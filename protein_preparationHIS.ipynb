{
 "cells": [
  {
   "cell_type": "code",
   "execution_count": 1,
   "metadata": {
    "collapsed": false
   },
   "outputs": [
    {
     "name": "stdout",
     "output_type": "stream",
     "text": [
      "Please cite -- HTMD: High-Throughput Molecular Dynamics for Molecular Discovery\n",
      "J. Chem. Theory Comput., 2016, 12 (4), pp 1845-1852. \n",
      "http://pubs.acs.org/doi/abs/10.1021/acs.jctc.6b00049\n",
      "\n",
      "\n",
      "New HTMD version (1.3.1) is available. You are currently on (1.0.26). Use 'conda update htmd' to update to the new version.\n"
     ]
    }
   ],
   "source": [
    "from htmd import *"
   ]
  },
  {
   "cell_type": "code",
   "execution_count": 2,
   "metadata": {
    "collapsed": false
   },
   "outputs": [
    {
     "name": "stderr",
     "output_type": "stream",
     "text": [
      "2016-06-30 02:54:08,988 - htmd.molecule.molecule - INFO - Attempting PDB query for 3PTB\n",
      "2016-06-30 02:54:10,094 - htmd.molecule.molecule - INFO - Removed 72 atoms. 1629 atoms remaining in the molecule.\n"
     ]
    }
   ],
   "source": [
    "mol = Molecule('3PTB')\n",
    "mol.filter(\"protein\")"
   ]
  },
  {
   "cell_type": "code",
   "execution_count": 3,
   "metadata": {
    "collapsed": false
   },
   "outputs": [],
   "source": [
    "copied = mol.copy()"
   ]
  },
  {
   "cell_type": "code",
   "execution_count": 4,
   "metadata": {
    "collapsed": false
   },
   "outputs": [
    {
     "name": "stderr",
     "output_type": "stream",
     "text": [
      "2016-06-30 02:54:10,275 - htmd.molecule.molecule - INFO - Removed 1175 atoms. 454 atoms remaining in the molecule.\n"
     ]
    }
   ],
   "source": [
    "copied.filter('resname ARG LYS ASP GLU HIS CYS TYR')"
   ]
  },
  {
   "cell_type": "code",
   "execution_count": 5,
   "metadata": {
    "collapsed": true
   },
   "outputs": [],
   "source": [
    "rid = np.unique(copied.get('resid')) # ia.resid also works!\n",
    "rn = copied.get('resname', \"name CA\")"
   ]
  },
  {
   "cell_type": "code",
   "execution_count": 7,
   "metadata": {
    "collapsed": false
   },
   "outputs": [
    {
     "name": "stdout",
     "output_type": "stream",
     "text": [
      "[32 40 40 41 42] resid =  40\n",
      "['OG' 'ND1' 'NE2' 'N' 'O']\n",
      "test!  32 OG\n",
      "32 ['SER']\n",
      "41 ['PHE']\n",
      "42 ['CYS']\n",
      "[ 57  57  57 102 102 214] resid =  57\n",
      "['N' 'ND1' 'NE2' 'OD1' 'OD2' 'O']\n",
      "test!  57 N\n",
      "102 ['ASP']\n",
      "214 ['SER']\n",
      "[91 91 91 92 93 94] resid =  91\n",
      "['O' 'ND1' 'NE2' 'N' 'N' 'N']\n",
      "test!  91 O\n",
      "92 ['PRO']\n",
      "93 ['SER']\n",
      "94 ['TYR']\n"
     ]
    }
   ],
   "source": [
    "### This is for the ND1 atom\n",
    "for resname, resid in zip(rn, rid):\n",
    "    if resname == \"HIS\":\n",
    "        atomlist = [mol.get(\"resid\", sel=\"name O N OH OG1 OG OE1 NE2 ND2 OE2 SG ND1 NH1 OD1 OD2 NZ NH2 and within 4 of name ND1 and resid \"+str(resid)), mol.get(\"name\", sel=\"name O N OH OG1 OG OE1 NE2 ND2 OE2 SG ND1 NH1 OD1 OD2 NZ NH2 and within 4 of name ND1 and resid \"+str(resid))]\n",
    "        print (atomlist[0], \"resid = \",resid)\n",
    "        print(atomlist[1])\n",
    "        print(\"test! \", atomlist[0][0], atomlist[1][0])\n",
    "        for residueID in np.unique(atomlist[0]):\n",
    "            if residueID != resid:\n",
    "                print(residueID, np.unique(mol.get(\"resname\", sel=\"resid \"+str(residueID))),)\n",
    "        \n",
    "### This is for the NE2 atom\n",
    "for resname, resid in zip(rn, rid):\n",
    "    if resname == \"HIS\":\n",
    "        atomlist = [mol.get(\"resid\", sel=\"name O N OH OG1 OG OE1 NE2 ND2 OE2 SG ND1 NH1 OD1 OD2 NZ NH2 and within 4 of name NE2 and resid \"+str(resid)), mol.get(\"name\", sel=\"name O N OH OG1 OG OE1 NE2 ND2 OE2 SG ND1 NH1 OD1 OD2 NZ NH2 and within 4 of name NE2 and resid \"+str(resid))]\n",
    "        print (atomlist[0], \"resid = \",resid)\n",
    "        print(atomlist[1])\n",
    "        print(\"test! \", atomlist[0][0], atomlist[1][0])\n",
    "        for residueID in np.unique(atomlist[0]):\n",
    "            if residueID != resid:\n",
    "                print(residueID, np.unique(mol.get(\"resname\", sel=\"resid \"+str(residueID))),)\n",
    "            "
   ]
  },
  {
   "cell_type": "code",
   "execution_count": 9,
   "metadata": {
    "collapsed": false
   },
   "outputs": [
    {
     "name": "stdout",
     "output_type": "stream",
     "text": [
      "[ 40  40  42  42 193] resid =  40\n",
      "['ND1' 'NE2' 'N' 'O' 'O']\n",
      "test!  40 ND1\n",
      "42 ['CYS']\n",
      "193 ['GLY']\n",
      "[ 57  57 195 214] resid =  57\n",
      "['ND1' 'NE2' 'OG' 'O']\n",
      "test!  57 ND1\n",
      "195 ['SER']\n",
      "214 ['SER']\n",
      "[91 91] resid =  91\n",
      "['ND1' 'NE2']\n",
      "test!  91 ND1\n"
     ]
    }
   ],
   "source": []
  },
  {
   "cell_type": "code",
   "execution_count": 19,
   "metadata": {
    "collapsed": false
   },
   "outputs": [
    {
     "name": "stdout",
     "output_type": "stream",
     "text": [
      "HIS 40\n",
      "ND1\n",
      "['SER'] 32 ['OG']\n",
      "['PHE'] 41 ['N']\n",
      "['CYS'] 42 ['O']\n",
      "NE2\n",
      "['CYS'] 42 ['N' 'O']\n",
      "['GLY'] 193 ['O']\n",
      "HIS 57\n",
      "ND1\n",
      "['ASP'] 102 ['OD1' 'OD2']\n",
      "['SER'] 214 ['O']\n",
      "NE2\n",
      "['SER'] 195 ['OG']\n",
      "['SER'] 214 ['O']\n",
      "HIS 91\n",
      "ND1\n",
      "['SER'] 93 ['N']\n",
      "['TYR'] 94 ['N']\n",
      "NE2\n"
     ]
    }
   ],
   "source": [
    "#He creado un monstruo... Os lo comento para que os sea mas facil de entender\n",
    "#La idea es generar una pos_list (que contendra las interacciones entre aa basicos) y una neg_list (que contendra las interacciones entre aa acidos).\n",
    "#He tomado el esquema que montó Mauro: \n",
    "nd1_list = []\n",
    "ne2_list = []\n",
    "for resname, resid in zip(rn, rid):\n",
    "\n",
    "    if resname == \"HIS\":\n",
    "        print(resname, resid)\n",
    "        #primero, seleccionas los residuos que pueden interactuar con el residuo acido/basico de interes mediante puentes de hidrogeno\n",
    "        a = mol.get(\"resid\", sel=\"name O N OH OG1 OG OE1 NE2 ND2 OE2 SG NE NE1 ND1 NH1 OD1 OD2 NZ NH2 and within 4 of name ND1 and resid \"+str(resid))\n",
    "        #eliminamos resultados redundantes\n",
    "        un = np.unique(a)\n",
    "        print (\"ND1\")\n",
    "        for residueID in un:\n",
    "            #Uso una arquitectura de try/except para curarme en salud\n",
    "            try:\n",
    "                l = len(np.unique(mol.get(\"resname\", sel=\"resid \"+str(residueID))))\n",
    "                #Como he comentado en el face, hay posiciones de secuencia que contienen dos residuos, en lugar de uno.\n",
    "                #Para esto, calculamos la distancia, si es mayor que 1 significa que tenemos posicion doble. En ese caso\n",
    "                #itero sobre las posibles posiciones y si encuentro una que sea un acido (acido en este caso porque tratamos los acidos)\n",
    "                #me la quedo y la añado al neg_list\n",
    "                if l > 1:\n",
    "                    for i in range(0, l):\n",
    "                        if residueID != resid:\n",
    "                            res = np.unique(mol.get(\"resname\", sel=\"resid \"+str(residueID)))\n",
    "                            #Las dos listas generadas siguen un formato de tipo: resname y resid del residuo en el que estoy\n",
    "                            #y resname y resid del residuo que interactua con el primero\n",
    "                            if res == \"PRO\":\n",
    "                                continue\n",
    "                            atoms = mol.get(\"name\" , sel=\"name O N OH OG1 OG OE1 NE2 ND2 OE2 SG NE NE1 ND1 NH1 OD1 OD2 NZ NH2 and resid \"+str(residueID)+\" and within 4 of name ND1 and resid \"+str(resid))\n",
    "                            tup = (res, residueID, atoms)\n",
    "                            nd1_list.append(tup)\n",
    "                           \n",
    "                            print(np.unique(mol.get(\"resname\", sel=\"resid \"+str(residueID))), residueID, atoms)\n",
    "                else:\n",
    "                    #Si no hay posiciones con multiples aa, añado residuos a la lista con normalidad\n",
    "                    if residueID != resid:\n",
    "                        res = np.unique(mol.get(\"resname\", sel=\"resid \"+str(residueID)))\n",
    "                        if res == \"PRO\":\n",
    "                                continue\n",
    "                        atoms = mol.get(\"name\" , sel=\"name O N OH OG1 OG OE1 NE2 ND2 OE2 SG NE NE1 ND1 NH1 OD1 OD2 NZ NH2 and resid \"+str(residueID)+\" and within 4 of name ND1 and resid \"+str(resid))\n",
    "                        tup = (res, residueID, atoms)\n",
    "                        nd1_list.append(tup)\n",
    "                        print(np.unique(mol.get(\"resname\", sel=\"resid \"+str(residueID))), residueID, atoms)\n",
    "            except:\n",
    "                #En el caso de que hayan errores, por pantalla aparecera un print indicando en que posicion ocurren\n",
    "                print(\"Error at \" + np.unique(mol.get(\"resname\", sel=\"resid \"+str(residueID))), residueID)\n",
    "                continue\n",
    "                \n",
    "        a = mol.get(\"resid\", sel=\"name O N OH OG1 OG OE1 NE2 ND2 OE2 SG NE NE1 ND1 NH1 OD1 OD2 NZ NH2 and within 4 of name NE2 and resid \"+str(resid))\n",
    "        #print(np.unique(a), \"resid\", resid)\n",
    "        un = np.unique(a)\n",
    "        print (\"NE2\")\n",
    "        for residueID in un:\n",
    "            try:\n",
    "                l = len(np.unique(mol.get(\"resname\", sel=\"resid \"+str(residueID))))\n",
    "                if l > 1:\n",
    "                    for i in range(0, l):\n",
    "                        if residueID != resid:\n",
    "                            res = np.unique(mol.get(\"resname\", sel=\"resid \"+str(residueID)))\n",
    "                            if res == \"PRO\":\n",
    "                                continue\n",
    "                            atoms = mol.get(\"name\" , sel=\"name O N OH OG1 OG OE1 NE2 ND2 OE2 SG NE NE1 ND1 NH1 OD1 OD2 NZ NH2 and resid \"+str(residueID)+\" and within 4 of name NE2 and resid \"+str(resid))\n",
    "                            tup = (res, residueID, atoms)\n",
    "                            ne2_list.append(tup)\n",
    "                            print(np.unique(mol.get(\"resname\", sel=\"resid \"+str(residueID))), residueID, atoms)\n",
    "                else:\n",
    "                    \n",
    "                    if residueID != resid:\n",
    "                        res = np.unique(mol.get(\"resname\", sel=\"resid \"+str(residueID)))\n",
    "                        if res == \"PRO\":\n",
    "                                continue\n",
    "                        atoms = mol.get(\"name\" , sel=\"name O N OH OG1 OG OE1 NE2 ND2 OE2 SG NE NE1 ND1 NH1 OD1 OD2 NZ NH2 and resid \"+str(residueID)+\" and within 4 of name NE2 and resid \"+str(resid))\n",
    "                        tup = (res, residueID, atoms)\n",
    "                        ne2_list.append(tup)\n",
    "                        \n",
    "                        print(np.unique(mol.get(\"resname\", sel=\"resid \"+str(residueID))), residueID, atoms)\n",
    "            except:\n",
    "                print(\"Error at \" + np.unique(mol.get(\"resname\", sel=\"resid \"+str(residueID))), residueID)\n",
    "                continue\n",
    "                \n",
    "        # I'll try to discriminate which nitrogen has to be protonated with something similar as a  \"scoring method\",\n",
    "        # based on h-bond capacity (source: http://www.imgt.org/IMGTeducation/Aide-memoire/_UK/aminoacids/charge/)\n",
    "        # If it can be both donor and acceptor, first the environment is evaluated and then it scores\n",
    "        # Also, if both nitrogens have an acidic aa near, it protonates that histidine. \n",
    "        nd1_negativech = False\n",
    "        ne2_negativech = False\n",
    "        nd1_lvl = 0\n",
    "        ne2_lvl = 0\n",
    "        # Falten NE, NE1 (Trp), treure SG\n",
    "        aa_score = {\"O\": 2, \"OD1\": 2, \"OE1\": 2, \"OE2\": 2, \"OD2\": 2,\"SG\": -1, \"N\": -1, \"NE\": -1, \"NE1\": -1, \"ND2\": -2, \"NH1\": -2, \"NH2\": -2, \"NZ\": -3 }\n",
    "        # Over-score the negative charges (positive can be identified), and TYM\"\n",
    "        # First, we start by iterating for every aa found around HIS\n",
    "        for aa in nd1_list:\n",
    "            # Check if a negative aminoacid is near\n",
    "            if aa[0] in [\"ASP\", \"GLU\", \"TYM\"]:\n",
    "                nd1_negativech = True\n",
    "                nd1_lvl += 2\n",
    "            # Then, we iterate for every atom found for an specific aminoacid (usually only 1 atom)\n",
    "            for atom in aa[2]:\n",
    "                if atom in aa_score:\n",
    "                    nd1_lvl += aa_score[atom]\n",
    "                # There are atoms that can be donors or acceptors, so we check if the index is positive or negative to apply a mitigation effect\n",
    "                elif atom == \"OG\": #Serine\n",
    "                    if nd1_lvl <0:\n",
    "                        nd1_lvl += 2\n",
    "                    elif nd1_lvl >= 0:\n",
    "                        nd1_lvl -=1\n",
    "                elif atom == \"OG1\": #Threonine\n",
    "                    if nd1_lvl <0:\n",
    "                        nd1_lvl += 2\n",
    "                    elif nd1_lvl >= 0:\n",
    "                        nd1_lvl -=1\n",
    "                elif atom == \"OH\": #Tyrosine\n",
    "                    if nd1_lvl <0:\n",
    "                        nd1_lvl += 1\n",
    "                    elif nd1_lvl >= 0:\n",
    "                        nd1_lvl -=1\n",
    "                elif atom == \"NE2\": # Other HIS or GLN\n",
    "                    if aa[0] == \"GLN\":\n",
    "                        nd1_lvl -= 2\n",
    "                    elif aa[0] == \"HID\":\n",
    "                        nd1_lvl += 1\n",
    "                    elif aa[0] == \"HIE\":\n",
    "                        nd1_lvl -= 1\n",
    "                    elif aa[0] == \"HIP\":\n",
    "                        nd1_lvl -= 1\n",
    "                    elif aa[0] == \"HIS\":\n",
    "                        if nd1_lvl <0:\n",
    "                            nd1_lvl += 1\n",
    "                        elif nd1_lvl >= 0:\n",
    "                            nd1_lvl -=1    \n",
    "                elif atom == \"ND1\": # Other HIS or GLN\n",
    "                    if aa[0] == \"HID\":\n",
    "                        nd1_lvl -= 1\n",
    "                    elif aa[0] == \"HIE\":\n",
    "                        nd1_lvl += 1\n",
    "                    elif aa[0] == \"HIP\":\n",
    "                        nd1_lvl -= 1\n",
    "                    elif aa[0] == \"HIS\":\n",
    "                        if nd1_lvl <0:\n",
    "                            nd1_lvl += 1\n",
    "                        elif nd1_lvl >= 0:\n",
    "                            nd1_lvl -=1 \n",
    "        for aa in ne2_list:\n",
    "            # Check if a negative aminoacid is near\n",
    "            if aa[0] in [\"ASP\", \"GLU\", \"TYM\"]:\n",
    "                ne2_negativech = True\n",
    "                ne2_lvl += 2\n",
    "            # Then, we iterate for every atom found for an specific aminoacid (usually only 1 atom)\n",
    "            for atom in aa[2]:\n",
    "                if atom in aa_score:\n",
    "                    ne2_lvl += aa_score[atom]\n",
    "                # There are atoms that can be donors or acceptors, so we check if the index is positive or negative to apply a mitigation effect\n",
    "                elif atom == \"OG\": #Serine\n",
    "                    if ne2_lvl <0:\n",
    "                        ne2_lvl += 2\n",
    "                    elif ne2_lvl >= 0:\n",
    "                        ne2_lvl -=1\n",
    "                elif atom == \"OG1\": #Threonine\n",
    "                    if ne2_lvl <0:\n",
    "                        ne2_lvl += 2\n",
    "                    elif ne2_lvl >= 0:\n",
    "                        ne2_lvl -=1\n",
    "                elif atom == \"OH\": #Tyrosine\n",
    "                    if ne2_lvl <0:\n",
    "                        ne2_lvl += 1\n",
    "                    elif ne2_lvl >= 0:\n",
    "                        ne2_lvl -=1\n",
    "                elif atom == \"NE2\": # Other HIS or GLN\n",
    "                    if aa[0] == \"GLN\":\n",
    "                        ne2_lvl -= 2\n",
    "                    elif aa[0] == \"HID\":\n",
    "                        ne2_lvl += 1\n",
    "                    elif aa[0] == \"HIE\":\n",
    "                        ne2_lvl -= 1\n",
    "                    elif aa[0] == \"HIP\":\n",
    "                        ne2_lvl -= 1\n",
    "                    elif aa[0] == \"HIS\":\n",
    "                        if nd1_lvl <0:\n",
    "                            ne2_lvl += 1\n",
    "                        elif nd1_lvl >= 0:\n",
    "                            ne2_lvl -=1    \n",
    "                elif atom == \"ND1\": # Other HIS or GLN\n",
    "                    if aa[0] == \"HID\":\n",
    "                        ne2_lvl -= 1\n",
    "                    elif aa[0] == \"HIE\":\n",
    "                        ne2_lvl += 1\n",
    "                    elif aa[0] == \"HIP\":\n",
    "                        ne2_lvl -= 1\n",
    "                    elif aa[0] == \"HIS\":\n",
    "                        if ne2_lvl <0:\n",
    "                            ne2_lvl += 1\n",
    "                        elif ne2_lvl >= 0:\n",
    "                            ne2_lvl -=1\n",
    "        # Okay, scoring made, let's decide the protonation!\n",
    "        if nd1_negativech and ne2_negativech:\n",
    "            mol.set(\"resname\", \"HIP\", \"resname \"+str(resname)+\" and resid \"+str(resid))   \n",
    "        if nd1_lvl >= ne2_lvl:\n",
    "            mol.set(\"resname\", \"HID\", \"resname \"+str(resname)+\" and resid \"+str(resid))\n",
    "        elif nd1_lvl < ne2_lvl:\n",
    "            mol.set(\"resname\", \"HIE\", \"resname \"+str(resname)+\" and resid \"+str(resid))\n",
    "                    \n",
    "                \n",
    "        \n",
    "        \n",
    "                \n",
    "\n",
    "\n"
   ]
  },
  {
   "cell_type": "code",
   "execution_count": 18,
   "metadata": {
    "collapsed": false
   },
   "outputs": [
    {
     "name": "stdout",
     "output_type": "stream",
     "text": [
      "['HIE' 'HIE' 'HIE' 'HIE' 'HIE' 'HIE' 'HIE' 'HIE' 'HIE' 'HIE']\n",
      "['HID' 'HID' 'HID' 'HID' 'HID' 'HID' 'HID' 'HID' 'HID' 'HID']\n",
      "['HID' 'HID' 'HID' 'HID' 'HID' 'HID' 'HID' 'HID' 'HID' 'HID']\n"
     ]
    }
   ],
   "source": [
    "print(mol.get(\"resname\", sel=\"resid 40\"))\n",
    "print(mol.get(\"resname\", sel=\"resid 57\"))\n",
    "print(mol.get(\"resname\", sel=\"resid 91\"))\n",
    "#Worked!"
   ]
  }
 ],
 "metadata": {
  "kernelspec": {
   "display_name": "Python 3",
   "language": "python",
   "name": "python3"
  },
  "language_info": {
   "codemirror_mode": {
    "name": "ipython",
    "version": 3
   },
   "file_extension": ".py",
   "mimetype": "text/x-python",
   "name": "python",
   "nbconvert_exporter": "python",
   "pygments_lexer": "ipython3",
   "version": "3.5.1"
  }
 },
 "nbformat": 4,
 "nbformat_minor": 0
}
