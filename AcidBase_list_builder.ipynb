{
 "cells": [
  {
   "cell_type": "code",
   "execution_count": 2,
   "metadata": {
    "collapsed": false
   },
   "outputs": [
    {
     "name": "stdout",
     "output_type": "stream",
     "text": [
      "Please cite -- HTMD: High-Throughput Molecular Dynamics for Molecular Discovery\n",
      "J. Chem. Theory Comput., 2016, 12 (4), pp 1845-1852. \n",
      "http://pubs.acs.org/doi/abs/10.1021/acs.jctc.6b00049\n",
      "\n",
      "\n",
      "New HTMD version (1.1.0) is available. You are currently on (1.0.26). Use 'conda update htmd' to update to the new version.\n"
     ]
    }
   ],
   "source": [
    "from htmd import *"
   ]
  },
  {
   "cell_type": "code",
   "execution_count": 3,
   "metadata": {
    "collapsed": false
   },
   "outputs": [
    {
     "name": "stderr",
     "output_type": "stream",
     "text": [
      "2016-06-29 10:41:04,922 - htmd.molecule.molecule - INFO - Attempting PDB query for 3PTB\n",
      "2016-06-29 10:41:06,082 - htmd.molecule.molecule - INFO - Removed 72 atoms. 1629 atoms remaining in the molecule.\n"
     ]
    }
   ],
   "source": [
    "mol = Molecule('3PTB')\n",
    "mol.filter(\"protein\")"
   ]
  },
  {
   "cell_type": "code",
   "execution_count": 4,
   "metadata": {
    "collapsed": false
   },
   "outputs": [
    {
     "name": "stderr",
     "output_type": "stream",
     "text": [
      "2016-06-29 10:41:08,993 - htmd.molecule.molecule - INFO - Removed 1175 atoms. 454 atoms remaining in the molecule.\n"
     ]
    }
   ],
   "source": [
    "copied = mol.copy()\n",
    "copied.filter('resname ARG LYS ASP GLU HIS CYS TYR')"
   ]
  },
  {
   "cell_type": "code",
   "execution_count": 5,
   "metadata": {
    "collapsed": true
   },
   "outputs": [],
   "source": [
    "rid = np.unique(copied.get('resid')) # ia.resid also works!\n",
    "rn = copied.get('resname', \"name CA\")"
   ]
  },
  {
   "cell_type": "code",
   "execution_count": 6,
   "metadata": {
    "collapsed": false
   },
   "outputs": [
    {
     "name": "stdout",
     "output_type": "stream",
     "text": [
      "['ASP'] 71\n",
      "['GLU'] 80\n",
      "['GLU'] 70\n",
      "['GLU'] 77\n"
     ]
    }
   ],
   "source": [
    "#He creado un monstruo... Os lo comento para que os sea mas facil de entender\n",
    "#La idea es generar una pos_list (que contendra las interacciones entre aa basicos) y una neg_list (que contendra las interacciones entre aa acidos).\n",
    "#He tomado el esquema que montó Mauro: \n",
    "pos_list = []\n",
    "neg_list = []\n",
    "for resname, resid in zip(rn, rid):\n",
    "    if resname == \"GLU\":\n",
    "        #primero, seleccionas los residuos que pueden interactuar con el residuo acido/basico de interes mediante puentes de hidrogeno\n",
    "        a = mol.get(\"resid\", sel=\"name O N OH OG1 OG OE1 NE2 ND2 OE2 SG ND1 NH1 OD1 OD2 NZ NH2 and within 4 of name OE1 OE2 and resid \"+str(resid))\n",
    "        #eliminamos resultados redundantes\n",
    "        un = np.unique(a)\n",
    "        for residueID in un:\n",
    "            #Uso una arquitectura de try/except para curarme en salud\n",
    "            try:\n",
    "                l = len(np.unique(mol.get(\"resname\", sel=\"resid \"+str(residueID))))\n",
    "                #Como he comentado en el face, hay posiciones de secuencia que contienen dos residuos, en lugar de uno.\n",
    "                #Para esto, calculamos la distancia, si es mayor que 1 significa que tenemos posicion doble. En ese caso\n",
    "                #itero sobre las posibles posiciones y si encuentro una que sea un acido (acido en este caso porque tratamos los acidos)\n",
    "                #me la quedo y la añado al neg_list\n",
    "                if l > 1:\n",
    "                    for i in range(0, l):\n",
    "                        if np.unique(mol.get(\"resname\", sel=\"resid \"+str(residueID)))[i] in [\"GLU\", \"ASP\"] and residueID != resid:\n",
    "                            res = np.unique(mol.get(\"resname\", sel=\"resid \"+str(residueID)))\n",
    "                            #Las dos listas generadas siguen un formato de tipo: resname y resid del residuo en el que estoy\n",
    "                            #y resname y resid del residuo que interactua con el primero\n",
    "                            tup = (resname, resid, res, residueID)\n",
    "                            neg_list.append(tup)\n",
    "                            print(np.unique(mol.get(\"resname\", sel=\"resid \"+str(residueID))), residueID)\n",
    "                else:\n",
    "                    #Si no hay posiciones con multiples aa, añado residuos a la lista con normalidad\n",
    "                    if np.unique(mol.get(\"resname\", sel=\"resid \"+str(residueID))) in [\"GLU\", \"ASP\"] and residueID != resid:\n",
    "                        res = np.unique(mol.get(\"resname\", sel=\"resid \"+str(residueID)))\n",
    "                        tup = (resname, resid, res, residueID)\n",
    "                        neg_list.append(tup)\n",
    "                        print(np.unique(mol.get(\"resname\", sel=\"resid \"+str(residueID))), residueID)\n",
    "            except:\n",
    "                #En el caso de que hayan errores, por pantalla aparecera un print indicando en que posicion ocurren\n",
    "                print(\"Error at \" + np.unique(mol.get(\"resname\", sel=\"resid \"+str(residueID))), residueID)\n",
    "                continue\n",
    "                \n",
    "    elif resname == \"ASP\":\n",
    "        a = mol.get(\"resid\", sel=\"name O N OH OG1 OG OE1 NE2 ND2 OE2 SG ND1 NH1 OD1 OD2 NZ NH2 and within 4 of name OD1 OD2 and resid \"+str(resid))\n",
    "        #print(np.unique(a), \"resid\", resid)\n",
    "        un = np.unique(a)\n",
    "        for residueID in un:\n",
    "            try:\n",
    "                l = len(np.unique(mol.get(\"resname\", sel=\"resid \"+str(residueID))))\n",
    "                if l > 1:\n",
    "                    for i in range(0, l):\n",
    "                        if np.unique(mol.get(\"resname\", sel=\"resid \"+str(residueID)))[i] in [\"GLU\", \"ASP\"] and residueID != resid:\n",
    "                            res = np.unique(mol.get(\"resname\", sel=\"resid \"+str(residueID)))\n",
    "                            tup = (resname, resid, res, residueID)\n",
    "                            neg_list.append(tup)\n",
    "                            print(np.unique(mol.get(\"resname\", sel=\"resid \"+str(residueID))), residueID)\n",
    "                else:\n",
    "                    \n",
    "                    if np.unique(mol.get(\"resname\", sel=\"resid \"+str(residueID))) in [\"GLU\", \"ASP\"] and residueID != resid:\n",
    "                        res = np.unique(mol.get(\"resname\", sel=\"resid \"+str(residueID)))\n",
    "                        tup = (resname, resid, res, residueID)\n",
    "                        neg_list.append(tup)\n",
    "                        print(np.unique(mol.get(\"resname\", sel=\"resid \"+str(residueID))), residueID)\n",
    "            except:\n",
    "                print(\"Error at \" + np.unique(mol.get(\"resname\", sel=\"resid \"+str(residueID))), residueID)\n",
    "                continue\n",
    "                \n",
    "    elif resname == \"ARG\":\n",
    "        a = mol.get(\"resid\", sel=\"name O N OH OG1 OG OE1 NE2 ND2 OE2 SG ND1 NH1 OD1 OD2 NZ NH2 and within 4 of name NH1 NH2 NE and resid \"+str(resid))\n",
    "        #print(np.unique(a), \"resid\", resid)\n",
    "        un = np.unique(a)\n",
    "        for residueID in un:\n",
    "            try:\n",
    "                l = len(np.unique(mol.get(\"resname\", sel=\"resid \"+str(residueID))))\n",
    "                if l > 1:\n",
    "                    print(\"aaaaaaaaaaa\")\n",
    "                    for i in range(0, l):\n",
    "                        if np.unique(mol.get(\"resname\", sel=\"resid \"+str(residueID)))[i] in [\"LYS\", \"ARG\"] and residueID != resid:\n",
    "                            res = np.unique(mol.get(\"resname\", sel=\"resid \"+str(residueID)))\n",
    "                            tup = (resname, resid, res, residueID)\n",
    "                            pos_list.append(tup)\n",
    "                            print(np.unique(mol.get(\"resname\", sel=\"resid \"+str(residueID))), residueID)\n",
    "                else:\n",
    "                    \n",
    "                    if np.unique(mol.get(\"resname\", sel=\"resid \"+str(residueID))) in [\"LYS\", \"ARG\"] and residueID != resid:\n",
    "                        res = np.unique(mol.get(\"resname\", sel=\"resid \"+str(residueID)))\n",
    "                        tup = (resname, resid, res, residueID)\n",
    "                        pos_list.append(tup)\n",
    "                        print(np.unique(mol.get(\"resname\", sel=\"resid \"+str(residueID))), residueID)\n",
    "            except:\n",
    "                print(\"Error at \" + np.unique(mol.get(\"resname\", sel=\"resid \"+str(residueID))), residueID)\n",
    "                continue\n",
    "                \n",
    "    elif resname == \"LYS\":\n",
    "        a = mol.get(\"resid\", sel=\"name O N OH OG1 OG OE1 NE2 ND2 OE2 SG ND1 NH1 OD1 OD2 NZ NH2 and within 4 of name NZ and resid \"+str(resid))\n",
    "        #print(np.unique(a), \"resid\", resid)\n",
    "        un = np.unique(a)\n",
    "        for residueID in un:\n",
    "            try:\n",
    "                l = len(np.unique(mol.get(\"resname\", sel=\"resid \"+str(residueID))))\n",
    "                if l > 1:\n",
    "                    for i in range(0, l):\n",
    "                        if np.unique(mol.get(\"resname\", sel=\"resid \"+str(residueID)))[i] in [\"LYS\", \"ARG\"] and residueID != resid:\n",
    "                            res = np.unique(mol.get(\"resname\", sel=\"resid \"+str(residueID)))\n",
    "                            tup = (resname, resid, res, residueID)\n",
    "                            pos_list.append(tup)\n",
    "                            print(np.unique(mol.get(\"resname\", sel=\"resid \"+str(residueID))), residueID)\n",
    "                else:\n",
    "                    \n",
    "                    if np.unique(mol.get(\"resname\", sel=\"resid \"+str(residueID))) in [\"LYS\", \"ARG\"] and residueID != resid:\n",
    "                        res = np.unique(mol.get(\"resname\", sel=\"resid \"+str(residueID)))\n",
    "                        tup = (resname, resid, res, residueID)\n",
    "                        pos_list.append(tup)\n",
    "                        print(np.unique(mol.get(\"resname\", sel=\"resid \"+str(residueID))), residueID)\n",
    "            except:\n",
    "                print(\"Error at \" + np.unique(mol.get(\"resname\", sel=\"resid \"+str(residueID))), residueID)\n",
    "                continue"
   ]
  },
  {
   "cell_type": "code",
   "execution_count": 7,
   "metadata": {
    "collapsed": false
   },
   "outputs": [
    {
     "name": "stdout",
     "output_type": "stream",
     "text": [
      "[]\n"
     ]
    }
   ],
   "source": [
    "print(pos_list)"
   ]
  },
  {
   "cell_type": "code",
   "execution_count": 8,
   "metadata": {
    "collapsed": false
   },
   "outputs": [
    {
     "name": "stdout",
     "output_type": "stream",
     "text": [
      "[('GLU', 70, array(['ASP'], dtype=object), 71), ('GLU', 70, array(['GLU'], dtype=object), 80), ('GLU', 80, array(['GLU'], dtype=object), 70), ('GLU', 80, array(['GLU'], dtype=object), 77)]\n"
     ]
    }
   ],
   "source": [
    "print(neg_list)"
   ]
  },
  {
   "cell_type": "code",
   "execution_count": null,
   "metadata": {
    "collapsed": true
   },
   "outputs": [],
   "source": []
  },
  {
   "cell_type": "code",
   "execution_count": 1,
   "metadata": {
    "collapsed": false
   },
   "outputs": [
    {
     "ename": "NameError",
     "evalue": "name 'neg_list' is not defined",
     "output_type": "error",
     "traceback": [
      "\u001b[1;31m---------------------------------------------------------------------------\u001b[0m",
      "\u001b[1;31mNameError\u001b[0m                                 Traceback (most recent call last)",
      "\u001b[1;32m<ipython-input-1-3686fa18ed70>\u001b[0m in \u001b[0;36m<module>\u001b[1;34m()\u001b[0m\n\u001b[1;32m----> 1\u001b[1;33m \u001b[0mprint\u001b[0m\u001b[1;33m(\u001b[0m\u001b[0mneg_list\u001b[0m\u001b[1;33m)\u001b[0m\u001b[1;33m\u001b[0m\u001b[0m\n\u001b[0m\u001b[0;32m      2\u001b[0m \u001b[1;33m\u001b[0m\u001b[0m\n",
      "\u001b[1;31mNameError\u001b[0m: name 'neg_list' is not defined"
     ]
    }
   ],
   "source": [
    "print(neg_list)\n",
    "           "
   ]
  }
 ],
 "metadata": {
  "kernelspec": {
   "display_name": "Python 3",
   "language": "python",
   "name": "python3"
  },
  "language_info": {
   "codemirror_mode": {
    "name": "ipython",
    "version": 3
   },
   "file_extension": ".py",
   "mimetype": "text/x-python",
   "name": "python",
   "nbconvert_exporter": "python",
   "pygments_lexer": "ipython3",
   "version": "3.5.1"
  }
 },
 "nbformat": 4,
 "nbformat_minor": 0
}
