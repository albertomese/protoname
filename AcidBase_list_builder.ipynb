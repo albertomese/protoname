{
 "cells": [
  {
   "cell_type": "code",
   "execution_count": 1,
   "metadata": {
    "collapsed": false
   },
   "outputs": [
    {
     "name": "stdout",
     "output_type": "stream",
     "text": [
      "Please cite -- HTMD: High-Throughput Molecular Dynamics for Molecular Discovery\n",
      "J. Chem. Theory Comput., 2016, 12 (4), pp 1845-1852. \n",
      "http://pubs.acs.org/doi/abs/10.1021/acs.jctc.6b00049\n",
      "\n",
      "\n",
      "New HTMD version (1.3.1) is available. You are currently on (1.0.26). Use 'conda update htmd' to update to the new version.\n"
     ]
    }
   ],
   "source": [
    "from htmd import *"
   ]
  },
  {
   "cell_type": "code",
   "execution_count": 2,
   "metadata": {
    "collapsed": false
   },
   "outputs": [
    {
     "name": "stderr",
     "output_type": "stream",
     "text": [
      "2016-06-30 19:13:22,981 - htmd.molecule.molecule - INFO - Attempting PDB query for 3PTB\n",
      "2016-06-30 19:13:23,976 - htmd.molecule.molecule - INFO - Removed 72 atoms. 1629 atoms remaining in the molecule.\n"
     ]
    }
   ],
   "source": [
    "mol = Molecule('3PTB')\n",
    "mol.filter(\"protein\")"
   ]
  },
  {
   "cell_type": "code",
   "execution_count": 3,
   "metadata": {
    "collapsed": false
   },
   "outputs": [
    {
     "name": "stderr",
     "output_type": "stream",
     "text": [
      "2016-06-30 19:13:24,787 - htmd.molecule.molecule - INFO - Removed 1175 atoms. 454 atoms remaining in the molecule.\n"
     ]
    }
   ],
   "source": [
    "copied = mol.copy()\n",
    "copied.filter('resname ARG LYS ASP GLU HIS CYS TYR')"
   ]
  },
  {
   "cell_type": "code",
   "execution_count": 4,
   "metadata": {
    "collapsed": true
   },
   "outputs": [],
   "source": [
    "rid = np.unique(copied.get('resid')) # ia.resid also works!\n",
    "rn = copied.get('resname', \"name CA\")"
   ]
  },
  {
   "cell_type": "code",
   "execution_count": 5,
   "metadata": {
    "collapsed": false
   },
   "outputs": [
    {
     "name": "stdout",
     "output_type": "stream",
     "text": [
      "['ASP'] 71\n",
      "['GLU'] 80\n",
      "['GLU'] 70\n",
      "['GLU'] 77\n"
     ]
    }
   ],
   "source": [
    "#He creado un monstruo... Os lo comento para que os sea mas facil de entender\n",
    "#La idea es generar una pos_list (que contendra las interacciones entre aa basicos) y una neg_list (que contendra las interacciones entre aa acidos).\n",
    "#He tomado el esquema que montó Mauro: \n",
    "pos_list = []\n",
    "neg_list = []\n",
    "for resname, resid in zip(rn, rid):\n",
    "    if resname == \"GLU\":\n",
    "        #primero, seleccionas los residuos que pueden interactuar con el residuo acido/basico de interes mediante puentes de hidrogeno\n",
    "        a = mol.get(\"resid\", sel=\"name O N OH OG1 OG OE1 NE2 ND2 OE2 SG ND1 NH1 OD1 OD2 NZ NH2 and within 4 of name OE1 OE2 and resid \"+str(resid))\n",
    "        #eliminamos resultados redundantes\n",
    "        un = np.unique(a)\n",
    "        for residueID in un:\n",
    "            #Uso una arquitectura de try/except para curarme en salud\n",
    "            try:\n",
    "                l = len(np.unique(mol.get(\"resname\", sel=\"resid \"+str(residueID))))\n",
    "                #Como he comentado en el face, hay posiciones de secuencia que contienen dos residuos, en lugar de uno.\n",
    "                #Para esto, calculamos la distancia, si es mayor que 1 significa que tenemos posicion doble. En ese caso\n",
    "                #itero sobre las posibles posiciones y si encuentro una que sea un acido (acido en este caso porque tratamos los acidos)\n",
    "                #me la quedo y la añado al neg_list\n",
    "                if l > 1:\n",
    "                    for i in range(0, l):\n",
    "                        if np.unique(mol.get(\"resname\", sel=\"resid \"+str(residueID)))[i] in [\"GLU\", \"ASP\"] and residueID != resid:\n",
    "                            res = np.unique(mol.get(\"resname\", sel=\"resid \"+str(residueID)))\n",
    "                            #Las dos listas generadas siguen un formato de tipo: resname y resid del residuo en el que estoy\n",
    "                            #y resname y resid del residuo que interactua con el primero\n",
    "                            tup = (resname, resid, res, residueID)\n",
    "                            neg_list.append(tup)\n",
    "                            print(np.unique(mol.get(\"resname\", sel=\"resid \"+str(residueID))), residueID)\n",
    "                else:\n",
    "                    #Si no hay posiciones con multiples aa, añado residuos a la lista con normalidad\n",
    "                    if np.unique(mol.get(\"resname\", sel=\"resid \"+str(residueID))) in [\"GLU\", \"ASP\"] and residueID != resid:\n",
    "                        res = np.unique(mol.get(\"resname\", sel=\"resid \"+str(residueID)))\n",
    "                        tup = (resname, resid, res, residueID)\n",
    "                        neg_list.append(tup)\n",
    "                        print(np.unique(mol.get(\"resname\", sel=\"resid \"+str(residueID))), residueID)\n",
    "            except:\n",
    "                #En el caso de que hayan errores, por pantalla aparecera un print indicando en que posicion ocurren\n",
    "                print(\"Error at \" + np.unique(mol.get(\"resname\", sel=\"resid \"+str(residueID))), residueID)\n",
    "                continue\n",
    "                \n",
    "    elif resname == \"ASP\":\n",
    "        a = mol.get(\"resid\", sel=\"name O N OH OG1 OG OE1 NE2 ND2 OE2 SG ND1 NH1 OD1 OD2 NZ NH2 and within 4 of name OD1 OD2 and resid \"+str(resid))\n",
    "        #print(np.unique(a), \"resid\", resid)\n",
    "        un = np.unique(a)\n",
    "        for residueID in un:\n",
    "            try:\n",
    "                l = len(np.unique(mol.get(\"resname\", sel=\"resid \"+str(residueID))))\n",
    "                if l > 1:\n",
    "                    for i in range(0, l):\n",
    "                        if np.unique(mol.get(\"resname\", sel=\"resid \"+str(residueID)))[i] in [\"GLU\", \"ASP\"] and residueID != resid:\n",
    "                            res = np.unique(mol.get(\"resname\", sel=\"resid \"+str(residueID)))\n",
    "                            tup = (resname, resid, res, residueID)\n",
    "                            neg_list.append(tup)\n",
    "                            print(np.unique(mol.get(\"resname\", sel=\"resid \"+str(residueID))), residueID)\n",
    "                else:\n",
    "                    \n",
    "                    if np.unique(mol.get(\"resname\", sel=\"resid \"+str(residueID))) in [\"GLU\", \"ASP\"] and residueID != resid:\n",
    "                        res = np.unique(mol.get(\"resname\", sel=\"resid \"+str(residueID)))\n",
    "                        tup = (resname, resid, res, residueID)\n",
    "                        neg_list.append(tup)\n",
    "                        print(np.unique(mol.get(\"resname\", sel=\"resid \"+str(residueID))), residueID)\n",
    "            except:\n",
    "                print(\"Error at \" + np.unique(mol.get(\"resname\", sel=\"resid \"+str(residueID))), residueID)\n",
    "                continue\n",
    "                \n",
    "    elif resname == \"ARG\":\n",
    "        a = mol.get(\"resid\", sel=\"name O N OH OG1 OG OE1 NE2 ND2 OE2 SG ND1 NH1 OD1 OD2 NZ NH2 and within 4 of name NH1 NH2 NE and resid \"+str(resid))\n",
    "        #print(np.unique(a), \"resid\", resid)\n",
    "        un = np.unique(a)\n",
    "        for residueID in un:\n",
    "            try:\n",
    "                l = len(np.unique(mol.get(\"resname\", sel=\"resid \"+str(residueID))))\n",
    "                if l > 1:\n",
    "                    for i in range(0, l):\n",
    "                        if np.unique(mol.get(\"resname\", sel=\"resid \"+str(residueID)))[i] in [\"LYS\", \"ARG\"] and residueID != resid:\n",
    "                            res = np.unique(mol.get(\"resname\", sel=\"resid \"+str(residueID)))\n",
    "                            tup = (resname, resid, res, residueID)\n",
    "                            pos_list.append(tup)\n",
    "                            print(np.unique(mol.get(\"resname\", sel=\"resid \"+str(residueID))), residueID)\n",
    "                else:\n",
    "                    \n",
    "                    if np.unique(mol.get(\"resname\", sel=\"resid \"+str(residueID))) in [\"LYS\", \"ARG\"] and residueID != resid:\n",
    "                        res = np.unique(mol.get(\"resname\", sel=\"resid \"+str(residueID)))\n",
    "                        tup = (resname, resid, res, residueID)\n",
    "                        pos_list.append(tup)\n",
    "                        print(np.unique(mol.get(\"resname\", sel=\"resid \"+str(residueID))), residueID)\n",
    "            except:\n",
    "                print(\"Error at \" + np.unique(mol.get(\"resname\", sel=\"resid \"+str(residueID))), residueID)\n",
    "                continue\n",
    "                \n",
    "    elif resname == \"LYS\":\n",
    "        a = mol.get(\"resid\", sel=\"name O N OH OG1 OG OE1 NE2 ND2 OE2 SG ND1 NH1 OD1 OD2 NZ NH2 and within 4 of name NZ and resid \"+str(resid))\n",
    "        #print(np.unique(a), \"resid\", resid)\n",
    "        un = np.unique(a)\n",
    "        for residueID in un:\n",
    "            try:\n",
    "                l = len(np.unique(mol.get(\"resname\", sel=\"resid \"+str(residueID))))\n",
    "                if l > 1:\n",
    "                    for i in range(0, l):\n",
    "                        if np.unique(mol.get(\"resname\", sel=\"resid \"+str(residueID)))[i] in [\"LYS\", \"ARG\"] and residueID != resid:\n",
    "                            res = np.unique(mol.get(\"resname\", sel=\"resid \"+str(residueID)))\n",
    "                            tup = (resname, resid, res, residueID)\n",
    "                            pos_list.append(tup)\n",
    "                            print(np.unique(mol.get(\"resname\", sel=\"resid \"+str(residueID))), residueID)\n",
    "                else:\n",
    "                    \n",
    "                    if np.unique(mol.get(\"resname\", sel=\"resid \"+str(residueID))) in [\"LYS\", \"ARG\"] and residueID != resid:\n",
    "                        res = np.unique(mol.get(\"resname\", sel=\"resid \"+str(residueID)))\n",
    "                        tup = (resname, resid, res, residueID)\n",
    "                        pos_list.append(tup)\n",
    "                        print(np.unique(mol.get(\"resname\", sel=\"resid \"+str(residueID))), residueID)\n",
    "            except:\n",
    "                print(\"Error at \" + np.unique(mol.get(\"resname\", sel=\"resid \"+str(residueID))), residueID)\n",
    "                continue"
   ]
  },
  {
   "cell_type": "code",
   "execution_count": 6,
   "metadata": {
    "collapsed": false
   },
   "outputs": [
    {
     "name": "stdout",
     "output_type": "stream",
     "text": [
      "[]\n"
     ]
    }
   ],
   "source": [
    "print(pos_list)"
   ]
  },
  {
   "cell_type": "code",
   "execution_count": 7,
   "metadata": {
    "collapsed": false
   },
   "outputs": [
    {
     "name": "stdout",
     "output_type": "stream",
     "text": [
      "[('GLU', 70, array(['ASP'], dtype=object), 71), ('GLU', 70, array(['GLU'], dtype=object), 80), ('GLU', 80, array(['GLU'], dtype=object), 70), ('GLU', 80, array(['GLU'], dtype=object), 77)]\n"
     ]
    }
   ],
   "source": [
    "print(neg_list)"
   ]
  },
  {
   "cell_type": "code",
   "execution_count": 8,
   "metadata": {
    "collapsed": false
   },
   "outputs": [],
   "source": [
    "def redundancy_eliminator(lista):\n",
    "    #Ahora el objetivo es eliminar redundancia de esta lista\n",
    "    #Para esto utilizaré listas: salidas contendra las posiciones para los residuos en los que estamos y llegadas contendras las\n",
    "    #posiciones de los residuos con los que interactua. Eliminar contendrá los indices de los elementos de la lista que sean redundantes\n",
    "    salidas = []\n",
    "    llegadas = []\n",
    "    eliminar = []\n",
    "    if len(lista) > 1: #entonces existe la posibilidad de que tengamos redundancias -> aqui tenemos 80-70 y 70-80\n",
    "        j = 0\n",
    "        for i in range(0, len(lista)):\n",
    "            if lista[i][1] in llegadas and lista[i][3] in salidas: #Entonces tendremos redundancia\n",
    "                #Guardo los indices de aquellos elementos de la lista que sean redundantes\n",
    "                eliminar.append(i)\n",
    "                next\n",
    "            else:\n",
    "                #Aquellos elementos que no sean reduntantes los incorporo a listas para permitir su comparación en futuras iteraciones\n",
    "                salidas.append(lista[i][1])\n",
    "                llegadas.append(lista[i][3])\n",
    "\n",
    "    for element in eliminar:\n",
    "        lista.remove(lista[element])\n",
    "\n",
    "    return lista\n",
    "            "
   ]
  },
  {
   "cell_type": "code",
   "execution_count": 9,
   "metadata": {
    "collapsed": false
   },
   "outputs": [
    {
     "name": "stdout",
     "output_type": "stream",
     "text": [
      "[('GLU', 70, array(['ASP'], dtype=object), 71), ('GLU', 70, array(['GLU'], dtype=object), 80), ('GLU', 80, array(['GLU'], dtype=object), 77)]\n"
     ]
    }
   ],
   "source": [
    "neg_list = redundancy_eliminator(neg_list)\n",
    "print(neg_list)"
   ]
  },
  {
   "cell_type": "code",
   "execution_count": 10,
   "metadata": {
    "collapsed": false
   },
   "outputs": [
    {
     "name": "stdout",
     "output_type": "stream",
     "text": [
      "[]\n"
     ]
    }
   ],
   "source": [
    "pos_list = redundancy_eliminator(pos_list)\n",
    "print(pos_list)"
   ]
  },
  {
   "cell_type": "code",
   "execution_count": 11,
   "metadata": {
    "collapsed": false
   },
   "outputs": [],
   "source": [
    "def atom_density(resname, resid):\n",
    "\n",
    "    #We will obtain scores for the two residues which are the same\n",
    "    aa_score_acid = {\"OH\":1, \"OG1\":2, \"OG\":2, \"NE2\": 1, \"ND1\":1, \"O\": 2, \"OD1\": 2, \"OE1\": 2, \"OE2\": 2, \"OD2\": 2,\"SG\": -1, \"N\": -1, \"NE\": -1, \"NE1\": -1, \"ND2\": -2, \"NH1\": -2, \"NH2\": -2, \"NZ\": -3 }\n",
    "    aa_score_base = {\"OH\":-1, \"OG1\":-1, \"OG\":-1, \"NE2\":-1, \"ND1\":-1, \"O\": 2, \"OD1\": 2, \"OE1\": 2, \"OE2\": 2, \"OD2\": 2,\"SG\": -1, \"N\": -1, \"NE\": -1, \"NE1\": -1, \"ND2\": -2, \"NH1\": -2, \"NH2\": -2, \"NZ\": -3 }\n",
    "    score = 0\n",
    "    a = []\n",
    "    if resname == \"ASP\":\n",
    "        a = mol.get(\"name\", sel=\"name O N OH OG1 OG OE1 NE2 ND2 OE2 SG ND1 NH1 OD1 OD2 NZ NH2 and within 6 of name OD1 OD2 and resid \"+str(resid))\n",
    "        for element in a:\n",
    "            try:\n",
    "                score += aa_score_acid[element]\n",
    "            except:\n",
    "                continue\n",
    "\n",
    "    elif resname == \"GLU\":\n",
    "        a = mol.get(\"name\", sel=\"name O N OH OG1 OG OE1 NE2 ND2 OE2 SG ND1 NH1 OD1 OD2 NZ NH2 and within 6 of name OE1 OE2 and resid \"+str(resid))\n",
    "        for element in a:\n",
    "            try:\n",
    "                score += aa_score_acid[element]\n",
    "            except:\n",
    "                continue\n",
    "\n",
    "    elif resname == \"LYS\":\n",
    "        a = mol.get(\"name\", sel=\"name O N OH OG1 OG OE1 NE2 ND2 OE2 SG ND1 NH1 OD1 OD2 NZ NH2 and within 6 of name NZ and resid \"+str(resid))\n",
    "        for element in a:\n",
    "            try:\n",
    "                score += aa_score_base[element]\n",
    "            except:\n",
    "                continue\n",
    "\n",
    "    elif resname == \"ARG\":\n",
    "        a = mol.get(\"name\", sel=\"name O N OH OG1 OG OE1 NE2 ND2 OE2 SG ND1 NH1 OD1 OD2 NZ NH2 and within 6 of name NH1 NH2 NE and resid \"+str(resid))\n",
    "        for element in a:\n",
    "            try:\n",
    "                score += aa_score_base[element]\n",
    "            except:\n",
    "                continue\n",
    "\n",
    "    return score\n",
    "\n"
   ]
  },
  {
   "cell_type": "code",
   "execution_count": 12,
   "metadata": {
    "collapsed": false
   },
   "outputs": [
    {
     "name": "stdout",
     "output_type": "stream",
     "text": [
      "jjjjjjjjj\n",
      "uuuuuuuuuu\n",
      "aaaaaaaaaaaa GLH 70 19\n",
      "uuuuuuuuuu\n",
      "aaaaaaaaaaaa GLH 80 18\n"
     ]
    }
   ],
   "source": [
    "#Ahora lo que toca es cambiar los nombre adecuadamente de la estructura original. \n",
    "#Primero los residuos negativos\n",
    "for element in neg_list:\n",
    "    if element[0] == \"GLU\" and element[2] == \"ASP\":\n",
    "        print(\"jjjjjjjjj\")\n",
    "        mol.set(\"resname\", \"GLH\", \"resid \"+str(element[1]))\n",
    "    elif element[0] == \"ASP\" and element[2] == \"GLU\":\n",
    "        print(\"ggggggggg\")\n",
    "        mol.set(\"resname\", \"GLH\", \"resid \"+str(element[3]))\n",
    "    elif element[0] == element[2]:\n",
    "        print(\"uuuuuuuuuu\")\n",
    "        if atom_density(element[0], element[1]) > atom_density(element[2], element[3]): #el residuo con mayor electronegatividad a su al rededor se protona\n",
    "            if element[0] == \"GLU\":\n",
    "                name = \"GLH\"\n",
    "            else:\n",
    "                name = \"ASH\"\n",
    "            mol.set(\"resname\", name, \"resid \" + str(element[1]))\n",
    "            print(\"aaaaaaaaaaaa\", name, element[1], atom_density(element[0], element[1]))\n",
    "            \n",
    "        elif atom_density(element[0], element[1]) < atom_density(element[2], element[3]):\n",
    "            if element[2] == \"GLU\":\n",
    "                name = \"GLH\"\n",
    "            else:\n",
    "                name = \"ASH\"\n",
    "            mol.set(\"resname\", name, \"resid \" + str(element[3]))\n",
    "            print(\"bbbbbbbbbbbbbbbbb\", name, element[3], atom_density(element[2], element[3]))\n",
    "            \n",
    "        else:\n",
    "            if element[2] == \"GLU\":\n",
    "                name = \"GLH\"\n",
    "            else:\n",
    "                name = \"ASH\"\n",
    "            mol.set(\"resname\", name, \"resid \" + str(element[1]))\n",
    "            print(\"cccccccccccccc\", name, element[1])"
   ]
  },
  {
   "cell_type": "code",
   "execution_count": 15,
   "metadata": {
    "collapsed": true
   },
   "outputs": [],
   "source": [
    "for element in pos_list:\n",
    "    if element[0] == \"ARG\" and element[2] == \"LYS\":\n",
    "        mol.set(\"resname\", \"LYN\", \"resid \"+str(element[3]))\n",
    "    elif element[0] == \"LYS\" and element[2] == \"ARG\":\n",
    "        mol.set(\"resname\", \"LYN\", \"resid \"+str(element[1]))\n",
    "    elif element[0] == element[2]:\n",
    "        if atom_density(element[0], element[1]) < atom_density(element[2], element[3]): \n",
    "            #el residuo con menor electronegatividad a su al rededor se desprotona\n",
    "            if element[0] == \"LYS\":\n",
    "                name = \"LYN\"\n",
    "            else:\n",
    "                name = \"AR0\"\n",
    "            mol.set(\"resname\", name, \"resid \" + str(element[1]))\n",
    "            \n",
    "        elif atom_density(element[0], element[1]) > atom_density(element[2], element[3]):\n",
    "            if element[2] == \"LYS\":\n",
    "                name = \"LYN\"\n",
    "            else:\n",
    "                name = \"AR0\"\n",
    "            mol.set(\"resname\", name, \"resid \" + str(element[3]))\n",
    "            \n",
    "        else:\n",
    "            if element[2] == \"LYS\":\n",
    "                name = \"LYN\"\n",
    "            else:\n",
    "                name = \"AR0\"\n",
    "            mol.set(\"resname\", name, \"resid \" + str(element[1]))"
   ]
  },
  {
   "cell_type": "code",
   "execution_count": null,
   "metadata": {
    "collapsed": true
   },
   "outputs": [],
   "source": []
  }
 ],
 "metadata": {
  "kernelspec": {
   "display_name": "Python 3",
   "language": "python",
   "name": "python3"
  },
  "language_info": {
   "codemirror_mode": {
    "name": "ipython",
    "version": 3
   },
   "file_extension": ".py",
   "mimetype": "text/x-python",
   "name": "python",
   "nbconvert_exporter": "python",
   "pygments_lexer": "ipython3",
   "version": "3.5.1"
  }
 },
 "nbformat": 4,
 "nbformat_minor": 0
}
