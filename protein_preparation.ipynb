{
 "cells": [
  {
   "cell_type": "markdown",
   "metadata": {},
   "source": [
    "# Protein prepatation\n",
    "by Mauro Álvarez, Albert Meseguer, Adrià Pérez and Cristina Prat"
   ]
  },
  {
   "cell_type": "markdown",
   "metadata": {},
   "source": [
    "Currently with the function prepareProtein of htmd we use propka and pdb2pqr to guess the protonation states and hydrogens. The idea of this project is to write a different algorithm based more or less on this strategy (of course looking at how pdb2pqr could also be useful).\n",
    "\n",
    "We need the atomic information of the different amino acids in order to know if they have to be protonated.\n",
    "\n",
    "|Amino acids           |Hydrogen donor atoms|Hydrogen acceptor atoms|\n",
    "|----------------------|--------------------|-----------------------|\n",
    "|Arginine (Arg, R)     |NE, NH1 (2), NH2 (2)|                       |\n",
    "|Asparagine (Asn, N)   |ND2 (2)             |OD1 (2)                |\n",
    "|Aspartic acid (Asp, D)|                    |OD1 (2), OD2 (2)       |\n",
    "|Glutamine (Gln, Q)    |NE2 (2)             |OE1 (2)                |\n",
    "|Glutamic acid (Glu, E)|                    |OE1 (2), OE2 (2)       |\n",
    "|Histidine (His, H)    |ND1, NE2            |ND1, NE2               |\n",
    "|Lysine (Lys, K)       |NZ (3)              |                       |\n",
    "|Serine (Ser, S)       |OG                  |OG (2)                 |\n",
    "|Threonine (Thr, T)\t   |OG1                 |OG1 (2)                |\n",
    "|Tryptophan (Trp, W)   |NE1                 |                       |\n",
    "|Tyrosine (Tyr, Y)     |OH                  |OH                     |\n",
    "\n",
    "\n",
    "The molecule produced by the preparation step has residue names modified according to their protonation. Later system-building functions assume these residue names. Note that support for alternative charge states varies between the forcefields.\n",
    "\n",
    "Charge +1    |  Neutral   | Charge -1\n",
    "-------------|------------|----------\n",
    " -           |  ASH       | ASP\n",
    " -           |  CYS       | CYM\n",
    " -           |  GLH       | GLU\n",
    "HIP          |  HID/HIE   |  -\n",
    "LYS          |  LYN       |  -\n",
    " -           |  TYR       | TYM\n",
    "ARG          |  AR0       |  -\n"
   ]
  },
  {
   "cell_type": "markdown",
   "metadata": {},
   "source": [
    "First we import the modules we are going to need for the project"
   ]
  },
  {
   "cell_type": "code",
   "execution_count": 1,
   "metadata": {
    "collapsed": false
   },
   "outputs": [
    {
     "name": "stdout",
     "output_type": "stream",
     "text": [
      "Please cite -- HTMD: High-Throughput Molecular Dynamics for Molecular Discovery\n",
      "J. Chem. Theory Comput., 2016, 12 (4), pp 1845-1852. \n",
      "http://pubs.acs.org/doi/abs/10.1021/acs.jctc.6b00049\n",
      "\n",
      "\n",
      "You are on the latest HTMD version (1.3.1).\n"
     ]
    }
   ],
   "source": [
    "from htmd import *"
   ]
  },
  {
   "cell_type": "markdown",
   "metadata": {},
   "source": [
    "For this report is used the Trypsin molecule as an example"
   ]
  },
  {
   "cell_type": "code",
   "execution_count": 2,
   "metadata": {
    "collapsed": false
   },
   "outputs": [
    {
     "name": "stderr",
     "output_type": "stream",
     "text": [
      "2016-06-29 13:28:02,362 - htmd.molecule.molecule - INFO - Attempting PDB query for 3PTB\n"
     ]
    }
   ],
   "source": [
    "mol = Molecule('3PTB')"
   ]
  },
  {
   "cell_type": "markdown",
   "metadata": {},
   "source": [
    "We need to remove the water and others ligands that we would have in our molecule, for this reason, we end up with just the protein."
   ]
  },
  {
   "cell_type": "code",
   "execution_count": 3,
   "metadata": {
    "collapsed": false
   },
   "outputs": [
    {
     "name": "stderr",
     "output_type": "stream",
     "text": [
      "2016-06-29 13:28:06,929 - htmd.molecule.molecule - INFO - Removed 72 atoms. 1629 atoms remaining in the molecule.\n"
     ]
    }
   ],
   "source": [
    "mol.filter(\"protein\")"
   ]
  },
  {
   "cell_type": "markdown",
   "metadata": {},
   "source": [
    "After that, we make a copy of that molecule because we just want to take into account five amino acids: ARG, LYS, ASP, GLU, HIS, CYS and TYR. They are interesting because of their hidrogen donor/acceptor activity."
   ]
  },
  {
   "cell_type": "code",
   "execution_count": 4,
   "metadata": {
    "collapsed": false
   },
   "outputs": [
    {
     "name": "stderr",
     "output_type": "stream",
     "text": [
      "2016-06-29 13:28:08,627 - htmd.molecule.molecule - INFO - Removed 1175 atoms. 454 atoms remaining in the molecule.\n"
     ]
    }
   ],
   "source": [
    "copied = mol.copy()\n",
    "copied.filter('resname ARG LYS ASP GLU HIS CYS TYR')"
   ]
  },
  {
   "cell_type": "markdown",
   "metadata": {},
   "source": [
    "We create two new variables (*rid* and *rn*) that contain resids and resname in order to easily iterate afterwards."
   ]
  },
  {
   "cell_type": "code",
   "execution_count": 5,
   "metadata": {
    "collapsed": true
   },
   "outputs": [],
   "source": [
    "rid = np.unique(copied.get('resid'))\n",
    "rn = copied.get('resname', \"name CA\")"
   ]
  },
  {
   "cell_type": "code",
   "execution_count": 6,
   "metadata": {
    "collapsed": false
   },
   "outputs": [
    {
     "name": "stdout",
     "output_type": "stream",
     "text": [
      "['ASP'] 71\n",
      "['GLU'] 80\n",
      "['GLU'] 70\n",
      "['GLU'] 77\n"
     ]
    }
   ],
   "source": [
    "# Firstly, a pos_list (basic aa interactions) and neg_list (acid aa interactions) are created\n",
    "pos_list = []\n",
    "neg_list = []\n",
    "for resname, resid in zip(rn, rid):\n",
    "    # Let's start with GLU\n",
    "    if resname == \"GLU\":\n",
    "        # Select resids that can interact with basic or acid resids of the ARG LYS ASP GLU HIS CYS TYR amino acids \n",
    "        # by h-bonds\n",
    "        a = mol.get(\"resid\", sel=\"name O N OH OG1 OG OE1 NE2 ND2 OE2 SG ND1 NH1 OD1 OD2 NZ NH2 and within 4 of name OE1 OE2\n",
    "                    and resid \"+str(resid))\n",
    "        # Remove redudant outcomes\n",
    "        un = np.unique(a)\n",
    "        for residueID in un:\n",
    "            try:\n",
    "                l = len(np.unique(mol.get(\"resname\", sel=\"resid \"+str(residueID))))\n",
    "                # There are some positions in the sequence that have two residues instead of one. In order to avoid \n",
    "                # that, we calculate the distance, if it is bigger than 1 means that there are two residues at the \n",
    "                # same position. At this point, under the possible positions and if there are an acid, we get it and\n",
    "                # we add it at neg_list\n",
    "                if l > 1:\n",
    "                    for i in range(0, l):\n",
    "                        if np.unique(mol.get(\"resname\", sel=\"resid \"+str(residueID)))[i] in [\"GLU\", \"ASP\"] and residueID != resid:\n",
    "                            res = np.unique(mol.get(\"resname\", sel=\"resid \"+str(residueID)))\n",
    "                            # Both lists have the same format: resname and resid of our residue, and after that, resname \n",
    "                            # and resid of the residue that interacts our residue\n",
    "                            tup = (resname, resid, res, residueID)\n",
    "                            neg_list.append(tup)\n",
    "                            print(np.unique(mol.get(\"resname\", sel=\"resid \"+str(residueID))), residueID)\n",
    "                else:\n",
    "                    # If there is no multiple amino acid positions, we add normally the residues in the list\n",
    "                    if np.unique(mol.get(\"resname\", sel=\"resid \"+str(residueID))) in [\"GLU\", \"ASP\"] and residueID != resid:\n",
    "                        res = np.unique(mol.get(\"resname\", sel=\"resid \"+str(residueID)))\n",
    "                        tup = (resname, resid, res, residueID)\n",
    "                        neg_list.append(tup)\n",
    "                        print(np.unique(mol.get(\"resname\", sel=\"resid \"+str(residueID))), residueID)\n",
    "            except:\n",
    "                # In the case that are some mistakes, it will show a print which indicate the position\n",
    "                print(\"Error at \" + np.unique(mol.get(\"resname\", sel=\"resid \"+str(residueID))), residueID)\n",
    "                continue\n",
    "                \n",
    "    elif resname == \"ASP\":\n",
    "        a = mol.get(\"resid\", sel=\"name O N OH OG1 OG OE1 NE2 ND2 OE2 SG ND1 NH1 OD1 OD2 NZ NH2 and within 4 of name OD1 OD2 and resid \"+str(resid))\n",
    "        #print(np.unique(a), \"resid\", resid)\n",
    "        un = np.unique(a)\n",
    "        for residueID in un:\n",
    "            try:\n",
    "                l = len(np.unique(mol.get(\"resname\", sel=\"resid \"+str(residueID))))\n",
    "                if l > 1:\n",
    "                    for i in range(0, l):\n",
    "                        if np.unique(mol.get(\"resname\", sel=\"resid \"+str(residueID)))[i] in [\"GLU\", \"ASP\"] and residueID != resid:\n",
    "                            res = np.unique(mol.get(\"resname\", sel=\"resid \"+str(residueID)))\n",
    "                            tup = (resname, resid, res, residueID)\n",
    "                            neg_list.append(tup)\n",
    "                            print(np.unique(mol.get(\"resname\", sel=\"resid \"+str(residueID))), residueID)\n",
    "                else:\n",
    "                    \n",
    "                    if np.unique(mol.get(\"resname\", sel=\"resid \"+str(residueID))) in [\"GLU\", \"ASP\"] and residueID != resid:\n",
    "                        res = np.unique(mol.get(\"resname\", sel=\"resid \"+str(residueID)))\n",
    "                        tup = (resname, resid, res, residueID)\n",
    "                        neg_list.append(tup)\n",
    "                        print(np.unique(mol.get(\"resname\", sel=\"resid \"+str(residueID))), residueID)\n",
    "            except:\n",
    "                print(\"Error at \" + np.unique(mol.get(\"resname\", sel=\"resid \"+str(residueID))), residueID)\n",
    "                continue\n",
    "                \n",
    "    elif resname == \"ARG\":\n",
    "        a = mol.get(\"resid\", sel=\"name O N OH OG1 OG OE1 NE2 ND2 OE2 SG ND1 NH1 OD1 OD2 NZ NH2 and within 4 of name NH1 NH2 NE and resid \"+str(resid))\n",
    "        #print(np.unique(a), \"resid\", resid)\n",
    "        un = np.unique(a)\n",
    "        for residueID in un:\n",
    "            try:\n",
    "                l = len(np.unique(mol.get(\"resname\", sel=\"resid \"+str(residueID))))\n",
    "                if l > 1:\n",
    "                    print(\"aaaaaaaaaaa\")\n",
    "                    for i in range(0, l):\n",
    "                        if np.unique(mol.get(\"resname\", sel=\"resid \"+str(residueID)))[i] in [\"LYS\", \"ARG\"] and residueID != resid:\n",
    "                            res = np.unique(mol.get(\"resname\", sel=\"resid \"+str(residueID)))\n",
    "                            tup = (resname, resid, res, residueID)\n",
    "                            pos_list.append(tup)\n",
    "                            print(np.unique(mol.get(\"resname\", sel=\"resid \"+str(residueID))), residueID)\n",
    "                else:\n",
    "                    \n",
    "                    if np.unique(mol.get(\"resname\", sel=\"resid \"+str(residueID))) in [\"LYS\", \"ARG\"] and residueID != resid:\n",
    "                        res = np.unique(mol.get(\"resname\", sel=\"resid \"+str(residueID)))\n",
    "                        tup = (resname, resid, res, residueID)\n",
    "                        pos_list.append(tup)\n",
    "                        print(np.unique(mol.get(\"resname\", sel=\"resid \"+str(residueID))), residueID)\n",
    "            except:\n",
    "                print(\"Error at \" + np.unique(mol.get(\"resname\", sel=\"resid \"+str(residueID))), residueID)\n",
    "                continue\n",
    "                \n",
    "    elif resname == \"LYS\":\n",
    "        a = mol.get(\"resid\", sel=\"name O N OH OG1 OG OE1 NE2 ND2 OE2 SG ND1 NH1 OD1 OD2 NZ NH2 and within 4 of name NZ and resid \"+str(resid))\n",
    "        #print(np.unique(a), \"resid\", resid)\n",
    "        un = np.unique(a)\n",
    "        for residueID in un:\n",
    "            try:\n",
    "                l = len(np.unique(mol.get(\"resname\", sel=\"resid \"+str(residueID))))\n",
    "                if l > 1:\n",
    "                    for i in range(0, l):\n",
    "                        if np.unique(mol.get(\"resname\", sel=\"resid \"+str(residueID)))[i] in [\"LYS\", \"ARG\"] and residueID != resid:\n",
    "                            res = np.unique(mol.get(\"resname\", sel=\"resid \"+str(residueID)))\n",
    "                            tup = (resname, resid, res, residueID)\n",
    "                            pos_list.append(tup)\n",
    "                            print(np.unique(mol.get(\"resname\", sel=\"resid \"+str(residueID))), residueID)\n",
    "                else:\n",
    "                    \n",
    "                    if np.unique(mol.get(\"resname\", sel=\"resid \"+str(residueID))) in [\"LYS\", \"ARG\"] and residueID != resid:\n",
    "                        res = np.unique(mol.get(\"resname\", sel=\"resid \"+str(residueID)))\n",
    "                        tup = (resname, resid, res, residueID)\n",
    "                        pos_list.append(tup)\n",
    "                        print(np.unique(mol.get(\"resname\", sel=\"resid \"+str(residueID))), residueID)\n",
    "            except:\n",
    "                print(\"Error at \" + np.unique(mol.get(\"resname\", sel=\"resid \"+str(residueID))), residueID)\n",
    "                continue"
   ]
  },
  {
   "cell_type": "code",
   "execution_count": 7,
   "metadata": {
    "collapsed": false
   },
   "outputs": [
    {
     "name": "stdout",
     "output_type": "stream",
     "text": [
      "[]\n"
     ]
    }
   ],
   "source": [
    "print(pos_list)"
   ]
  },
  {
   "cell_type": "code",
   "execution_count": 8,
   "metadata": {
    "collapsed": false
   },
   "outputs": [
    {
     "name": "stdout",
     "output_type": "stream",
     "text": [
      "[('GLU', 70, array(['ASP'], dtype=object), 71), ('GLU', 70, array(['GLU'], dtype=object), 80), ('GLU', 80, array(['GLU'], dtype=object), 70), ('GLU', 80, array(['GLU'], dtype=object), 77)]\n"
     ]
    }
   ],
   "source": [
    "print(neg_list)"
   ]
  },
  {
   "cell_type": "code",
   "execution_count": 9,
   "metadata": {
    "collapsed": false
   },
   "outputs": [],
   "source": [
    "def redundancy_eliminator(lista):\n",
    "    # The aim is to remove the redudance in this list\n",
    "    # We use three list: salidas have the positions of the residues that we are, llegadas have the positions \n",
    "    # of the residues which interactue and, eliminar have the index of the element in the list that are redundant\n",
    "    salidas = []\n",
    "    llegadas = []\n",
    "    eliminar = []\n",
    "    if len(lista) > 1: # If we have redudancies\n",
    "        for i in range(0, len(lista)):\n",
    "            if lista[i][1] in llegadas and lista[i][3] in salidas: #Entonces tendremos redundancia\n",
    "                # Keep the index of the list elements which are redundants\n",
    "                eliminar.append(i)\n",
    "                next\n",
    "            else:\n",
    "                # Those elements that are not redundat, we append it in the list to allow their comparation\n",
    "                # in future iterations\n",
    "                salidas.append(lista[i][1])\n",
    "                llegadas.append(lista[i][3])\n",
    "\n",
    "    for element in eliminar:\n",
    "        lista.remove(lista[element])\n",
    "\n",
    "    return lista\n",
    "            "
   ]
  },
  {
   "cell_type": "code",
   "execution_count": 10,
   "metadata": {
    "collapsed": false
   },
   "outputs": [
    {
     "name": "stdout",
     "output_type": "stream",
     "text": [
      "[('GLU', 70, array(['ASP'], dtype=object), 71), ('GLU', 70, array(['GLU'], dtype=object), 80), ('GLU', 80, array(['GLU'], dtype=object), 77)]\n"
     ]
    }
   ],
   "source": [
    "neg_list = redundancy_eliminator(neg_list)\n",
    "print(neg_list)"
   ]
  },
  {
   "cell_type": "code",
   "execution_count": 11,
   "metadata": {
    "collapsed": false
   },
   "outputs": [
    {
     "name": "stdout",
     "output_type": "stream",
     "text": [
      "[]\n"
     ]
    }
   ],
   "source": [
    "pos_list = redundancy_eliminator(pos_list)\n",
    "print(pos_list)"
   ]
  },
  {
   "cell_type": "code",
   "execution_count": null,
   "metadata": {
    "collapsed": true
   },
   "outputs": [],
   "source": []
  }
 ],
 "metadata": {
  "kernelspec": {
   "display_name": "Python 3",
   "language": "python",
   "name": "python3"
  },
  "language_info": {
   "codemirror_mode": {
    "name": "ipython",
    "version": 3
   },
   "file_extension": ".py",
   "mimetype": "text/x-python",
   "name": "python",
   "nbconvert_exporter": "python",
   "pygments_lexer": "ipython3",
   "version": "3.5.1"
  }
 },
 "nbformat": 4,
 "nbformat_minor": 0
}
