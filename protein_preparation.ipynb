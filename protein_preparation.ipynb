{
 "cells": [
  {
   "cell_type": "markdown",
   "metadata": {},
   "source": [
    "# Protein prepatation\n",
    "by Mauro Álvarez, Albert Meseguer, Adrià Pérez and Cristina Prat"
   ]
  },
  {
   "cell_type": "markdown",
   "metadata": {},
   "source": [
    "Currently with the function prepareProtein of htmd we use propka and pdb2pqr to guess the protonation states and hydrogens. The idea of this project is to write a different algorithm based more or less on this strategy.\n",
    "\n",
    "We need the atomic information of the different amino acids in order to know if they have to be protonated.\n",
    "\n",
    "|Amino acids           |Hydrogen donor atoms|Hydrogen acceptor atoms|\n",
    "|----------------------|--------------------|-----------------------|\n",
    "|Arginine (Arg, R)     |NE, NH1 (2), NH2 (2)|                       |\n",
    "|Asparagine (Asn, N)   |ND2 (2)             |OD1 (2)                |\n",
    "|Aspartic acid (Asp, D)|                    |OD1 (2), OD2 (2)       |\n",
    "|Glutamine (Gln, Q)    |NE2 (2)             |OE1 (2)                |\n",
    "|Glutamic acid (Glu, E)|                    |OE1 (2), OE2 (2)       |\n",
    "|Histidine (His, H)    |ND1, NE2            |ND1, NE2               |\n",
    "|Lysine (Lys, K)       |NZ (3)              |                       |\n",
    "|Serine (Ser, S)       |OG                  |OG (2)                 |\n",
    "|Threonine (Thr, T)\t   |OG1                 |OG1 (2)                |\n",
    "|Tryptophan (Trp, W)   |NE1                 |                       |\n",
    "|Tyrosine (Tyr, Y)     |OH                  |OH                     |\n",
    "\n",
    "\n",
    "The molecule produced by the preparation step has residue names modified according to their protonation. Later system-building functions assume these residue names. Note that support for alternative charge states varies between the forcefields.\n",
    "\n",
    "Charge +1    |  Neutral   | Charge -1\n",
    "-------------|------------|----------\n",
    " -           |  ASH       | ASP\n",
    " -           |  CYS       | CYM\n",
    " -           |  GLH       | GLU\n",
    "HIP          |  HID/HIE   |  -\n",
    "LYS          |  LYN       |  -\n",
    " -           |  TYR       | TYM\n",
    "ARG          |  AR0       |  -\n",
    "\n",
    "\n",
    "In our approach, we do not consider the protonation of TYR and CYS amino acids:\n",
    "- CYS reduction is related with disulphide bonds which are included in the PDB molecule using the tag SSBOND. Therefore, we do not need to take into account it. \n",
    "- TYM is derived from TYR. We see that this amino acid variant does not have COOH group so we are not interested in it. We do not find a TYR patch amino acid with O- atom, therefore, we do not look for its protonation."
   ]
  },
  {
   "cell_type": "markdown",
   "metadata": {},
   "source": [
    "First we import the modules we are going to need for the project"
   ]
  },
  {
   "cell_type": "code",
   "execution_count": 1,
   "metadata": {
    "collapsed": false
   },
   "outputs": [
    {
     "name": "stdout",
     "output_type": "stream",
     "text": [
      "Please cite -- HTMD: High-Throughput Molecular Dynamics for Molecular Discovery\n",
      "J. Chem. Theory Comput., 2016, 12 (4), pp 1845-1852. \n",
      "http://pubs.acs.org/doi/abs/10.1021/acs.jctc.6b00049\n",
      "\n",
      "\n",
      "You are on the latest HTMD version (1.3.1).\n"
     ]
    }
   ],
   "source": [
    "from htmd import *"
   ]
  },
  {
   "cell_type": "markdown",
   "metadata": {},
   "source": [
    "For this report is used the Trypsin molecule as an example"
   ]
  },
  {
   "cell_type": "code",
   "execution_count": 2,
   "metadata": {
    "collapsed": false
   },
   "outputs": [
    {
     "name": "stderr",
     "output_type": "stream",
     "text": [
      "2016-06-30 20:40:14,332 - htmd.molecule.molecule - INFO - Attempting PDB query for 3PTB\n"
     ]
    }
   ],
   "source": [
    "mol = Molecule('3PTB')"
   ]
  },
  {
   "cell_type": "markdown",
   "metadata": {},
   "source": [
    "We need to remove the water and others ligands that we have in our molecule, for this reason, we end up with just the protein."
   ]
  },
  {
   "cell_type": "code",
   "execution_count": 3,
   "metadata": {
    "collapsed": false
   },
   "outputs": [
    {
     "name": "stderr",
     "output_type": "stream",
     "text": [
      "2016-06-30 20:40:15,259 - htmd.molecule.molecule - INFO - Removed 72 atoms. 1629 atoms remaining in the molecule.\n"
     ]
    }
   ],
   "source": [
    "mol.filter(\"protein\")"
   ]
  },
  {
   "cell_type": "markdown",
   "metadata": {},
   "source": [
    "After that, we make a copy of that molecule because we just want to take into account five amino acids: ARG, LYS, ASP, GLU, HIS, CYS and TYR. They are interesting because they are able to behave as hidrogen donor or acceptor."
   ]
  },
  {
   "cell_type": "code",
   "execution_count": 4,
   "metadata": {
    "collapsed": false
   },
   "outputs": [
    {
     "name": "stderr",
     "output_type": "stream",
     "text": [
      "2016-06-30 20:40:15,329 - htmd.molecule.molecule - INFO - Removed 1175 atoms. 454 atoms remaining in the molecule.\n"
     ]
    }
   ],
   "source": [
    "copied = mol.copy()\n",
    "copied.filter('resname ARG LYS ASP GLU HIS CYS TYR')"
   ]
  },
  {
   "cell_type": "markdown",
   "metadata": {},
   "source": [
    "We create two new variables (*rid* and *rn*) that contain resids and resname in order to easily iterate afterwards."
   ]
  },
  {
   "cell_type": "code",
   "execution_count": 5,
   "metadata": {
    "collapsed": true
   },
   "outputs": [],
   "source": [
    "rid = np.unique(copied.get('resid'))\n",
    "rn = copied.get('resname', \"name CA\")"
   ]
  },
  {
   "cell_type": "markdown",
   "metadata": {},
   "source": [
    "## GLU, ASP, ARG and LYS analysis"
   ]
  },
  {
   "cell_type": "code",
   "execution_count": 6,
   "metadata": {
    "collapsed": false
   },
   "outputs": [
    {
     "name": "stdout",
     "output_type": "stream",
     "text": [
      "['ASP'] 71\n",
      "['GLU'] 80\n",
      "['GLU'] 70\n",
      "['GLU'] 77\n"
     ]
    }
   ],
   "source": [
    "# Firstly, a pos_list (basic aa interactions) and neg_list (acid aa interactions) are created\n",
    "pos_list = []\n",
    "neg_list = []\n",
    "for resname, resid in zip(rn, rid):\n",
    "    # Let's start with GLU\n",
    "    if resname == \"GLU\":\n",
    "        # Select resids that can interact with basic or acid resids of the ARG LYS ASP GLU HIS\n",
    "        # CYS TYR amino acids by h-bonds\n",
    "        a = mol.get(\"resid\", sel=\"name O N OH OG1 OG OE1 NE2 ND2 OE2 SG NE NE1 ND1 NH1 OD1 OD2 NZ NH2 and within 4 of name OE1 OE2 and resid \"+str(resid))\n",
    "        # Remove redudant outcomes\n",
    "        un = np.unique(a)\n",
    "        for residueID in un:\n",
    "            try:\n",
    "                l = len(np.unique(mol.get(\"resname\", sel=\"resid \"+str(residueID))))\n",
    "                # There are some positions in the sequence that have two residues instead of \n",
    "                # one. In order to avoid that, we calculate the distance, if it is bigger \n",
    "                # than 1 means that there are two residues at the same position. At this point,\n",
    "                # under the possible positions and if there are an acid, we get it and we add \n",
    "                # it at neg_list\n",
    "                if l > 1:\n",
    "                    for i in range(0, l):\n",
    "                        if np.unique(mol.get(\"resname\", sel=\"resid \"+str(residueID)))[i] in [\"GLU\", \"ASP\"] and residueID != resid:\n",
    "                            res = np.unique(mol.get(\"resname\", sel=\"resid \"+str(residueID)))\n",
    "                            # Both lists have the same format: resname and resid of our \n",
    "                            # residue, and after that, resname and resid of the residue \n",
    "                            # that interacts our residue\n",
    "                            tup = (resname, resid, res, residueID)\n",
    "                            neg_list.append(tup)\n",
    "                            print(np.unique(mol.get(\"resname\", sel=\"resid \"+str(residueID))), residueID)\n",
    "                else:\n",
    "                    # If there is no multiple amino acid positions, we add normally the\n",
    "                    # residues in the list\n",
    "                    if np.unique(mol.get(\"resname\", sel=\"resid \"+str(residueID))) in [\"GLU\", \"ASP\"] and residueID != resid:\n",
    "                        res = np.unique(mol.get(\"resname\", sel=\"resid \"+str(residueID)))\n",
    "                        tup = (resname, resid, res, residueID)\n",
    "                        neg_list.append(tup)\n",
    "                        print(np.unique(mol.get(\"resname\", sel=\"resid \"+str(residueID))), residueID)\n",
    "            except:\n",
    "                # In the case that are some mistakes, it will show a print which indicate the \n",
    "                # position\n",
    "                print(\"Error at \" + np.unique(mol.get(\"resname\", sel=\"resid \"+str(residueID))), residueID)\n",
    "                continue\n",
    "                \n",
    "    elif resname == \"ASP\":\n",
    "        a = mol.get(\"resid\", sel=\"name O N OH OG1 OG OE1 NE2 ND2 OE2 SG NE NE1 ND1 NH1 OD1 OD2 NZ NH2 and within 4 of name OD1 OD2 and resid \"+str(resid))\n",
    "        #print(np.unique(a), \"resid\", resid)\n",
    "        un = np.unique(a)\n",
    "        for residueID in un:\n",
    "            try:\n",
    "                l = len(np.unique(mol.get(\"resname\", sel=\"resid \"+str(residueID))))\n",
    "                if l > 1:\n",
    "                    for i in range(0, l):\n",
    "                        if np.unique(mol.get(\"resname\", sel=\"resid \"+str(residueID)))[i] in [\"GLU\", \"ASP\"] and residueID != resid:\n",
    "                            res = np.unique(mol.get(\"resname\", sel=\"resid \"+str(residueID)))\n",
    "                            tup = (resname, resid, res, residueID)\n",
    "                            neg_list.append(tup)\n",
    "                            print(np.unique(mol.get(\"resname\", sel=\"resid \"+str(residueID))), residueID)\n",
    "                else:\n",
    "                    \n",
    "                    if np.unique(mol.get(\"resname\", sel=\"resid \"+str(residueID))) in [\"GLU\", \"ASP\"] and residueID != resid:\n",
    "                        res = np.unique(mol.get(\"resname\", sel=\"resid \"+str(residueID)))\n",
    "                        tup = (resname, resid, res, residueID)\n",
    "                        neg_list.append(tup)\n",
    "                        print(np.unique(mol.get(\"resname\", sel=\"resid \"+str(residueID))), residueID)\n",
    "            except:\n",
    "                print(\"Error at \" + np.unique(mol.get(\"resname\", sel=\"resid \"+str(residueID))), residueID)\n",
    "                continue\n",
    "                \n",
    "    elif resname == \"ARG\":\n",
    "        a = mol.get(\"resid\", sel=\"name O N OH OG1 OG OE1 NE2 ND2 OE2 SG NE NE1 ND1 NH1 OD1 OD2 NZ NH2 and within 4 of name NH1 NH2 NE and resid \"+str(resid))\n",
    "        #print(np.unique(a), \"resid\", resid)\n",
    "        un = np.unique(a)\n",
    "        for residueID in un:\n",
    "            try:\n",
    "                l = len(np.unique(mol.get(\"resname\", sel=\"resid \"+str(residueID))))\n",
    "                if l > 1:\n",
    "                    for i in range(0, l):\n",
    "                        if np.unique(mol.get(\"resname\", sel=\"resid \"+str(residueID)))[i] in [\"LYS\", \"ARG\"] and residueID != resid:\n",
    "                            res = np.unique(mol.get(\"resname\", sel=\"resid \"+str(residueID)))\n",
    "                            tup = (resname, resid, res, residueID)\n",
    "                            pos_list.append(tup)\n",
    "                            print(np.unique(mol.get(\"resname\", sel=\"resid \"+str(residueID))), residueID)\n",
    "                else:\n",
    "                    \n",
    "                    if np.unique(mol.get(\"resname\", sel=\"resid \"+str(residueID))) in [\"LYS\", \"ARG\"] and residueID != resid:\n",
    "                        res = np.unique(mol.get(\"resname\", sel=\"resid \"+str(residueID)))\n",
    "                        tup = (resname, resid, res, residueID)\n",
    "                        pos_list.append(tup)\n",
    "                        print(np.unique(mol.get(\"resname\", sel=\"resid \"+str(residueID))), residueID)\n",
    "            except:\n",
    "                print(\"Error at \" + np.unique(mol.get(\"resname\", sel=\"resid \"+str(residueID))), residueID)\n",
    "                continue\n",
    "                \n",
    "    elif resname == \"LYS\":\n",
    "        a = mol.get(\"resid\", sel=\"name O N OH OG1 OG OE1 NE2 ND2 OE2 SG NE NE1 ND1 NH1 OD1 OD2 NZ NH2 and within 4 of name NZ and resid \"+str(resid))\n",
    "        #print(np.unique(a), \"resid\", resid)\n",
    "        un = np.unique(a)\n",
    "        for residueID in un:\n",
    "            try:\n",
    "                l = len(np.unique(mol.get(\"resname\", sel=\"resid \"+str(residueID))))\n",
    "                if l > 1:\n",
    "                    for i in range(0, l):\n",
    "                        if np.unique(mol.get(\"resname\", sel=\"resid \"+str(residueID)))[i] in [\"LYS\", \"ARG\"] and residueID != resid:\n",
    "                            res = np.unique(mol.get(\"resname\", sel=\"resid \"+str(residueID)))\n",
    "                            tup = (resname, resid, res, residueID)\n",
    "                            pos_list.append(tup)\n",
    "                            print(np.unique(mol.get(\"resname\", sel=\"resid \"+str(residueID))), residueID)\n",
    "                else:\n",
    "                    \n",
    "                    if np.unique(mol.get(\"resname\", sel=\"resid \"+str(residueID))) in [\"LYS\", \"ARG\"] and residueID != resid:\n",
    "                        res = np.unique(mol.get(\"resname\", sel=\"resid \"+str(residueID)))\n",
    "                        tup = (resname, resid, res, residueID)\n",
    "                        pos_list.append(tup)\n",
    "                        print(np.unique(mol.get(\"resname\", sel=\"resid \"+str(residueID))), residueID)\n",
    "            except:\n",
    "                print(\"Error at \" + np.unique(mol.get(\"resname\", sel=\"resid \"+str(residueID))), residueID)\n",
    "                continue"
   ]
  },
  {
   "cell_type": "markdown",
   "metadata": {},
   "source": [
    "In the following function *redundancy_eliminator*, the aim is to remove the redundance in its list. We use three list: \n",
    "- *departures* have the positions of the residues that we are\n",
    "- *arrivals* have the positions of the residues which interactue \n",
    "- *delete* have the index of the element in the list that are redundant"
   ]
  },
  {
   "cell_type": "code",
   "execution_count": 7,
   "metadata": {
    "collapsed": false
   },
   "outputs": [],
   "source": [
    "def redundancy_eliminator(lista):\n",
    "    departures = []\n",
    "    arrivals = []\n",
    "    delete = []\n",
    "    if len(lista) > 1: \n",
    "        j = 0\n",
    "        for i in range(0, len(lista)):\n",
    "            if lista[i][1] in arrivals and lista[i][3] in departures: # If we have redudancies\n",
    "                # Keep the index of the list elements which are redundantsdelete.append(i)\n",
    "                next\n",
    "            else:\n",
    "                # Those elements that are not redundat, we append it in the list to allow their\n",
    "                # comparation in future iterations\n",
    "                departures.append(lista[i][1])\n",
    "                arrivals.append(lista[i][3])\n",
    "    for element in delete:\n",
    "        lista.remove(lista[element])\n",
    "    return lista           "
   ]
  },
  {
   "cell_type": "code",
   "execution_count": 8,
   "metadata": {
    "collapsed": false
   },
   "outputs": [],
   "source": [
    "neg_list = redundancy_eliminator(neg_list)\n",
    "pos_list = redundancy_eliminator(pos_list)"
   ]
  },
  {
   "cell_type": "markdown",
   "metadata": {},
   "source": [
    "In the function *atom_density*, we calculate the atom density around the chosen atoms within a 6A radius spherical space."
   ]
  },
  {
   "cell_type": "code",
   "execution_count": 9,
   "metadata": {
    "collapsed": true
   },
   "outputs": [],
   "source": [
    "def atom_density(resname, resid):\n",
    "    # We will obtain scores for the two residues which are the same\n",
    "    aa_score_acid = {\"OH\":1, \"OG1\":2, \"OG\":2, \"NE2\": 1, \"ND1\":1, \"O\": 2, \"OD1\": 2, \"OE1\": 2, \"OE2\": 2, \"OD2\": 2,\"SG\": -1, \"N\": -1, \"NE\": -1, \"NE1\": -1, \"ND2\": -2, \"NH1\": -2, \"NH2\": -2, \"NZ\": -3 }\n",
    "    aa_score_base = {\"OH\":-1, \"OG1\":-1, \"OG\":-1, \"NE2\":-1, \"ND1\":-1, \"O\": 2, \"OD1\": 2, \"OE1\": 2, \"OE2\": 2, \"OD2\": 2,\"SG\": -1, \"N\": -1, \"NE\": -1, \"NE1\": -1, \"ND2\": -2, \"NH1\": -2, \"NH2\": -2, \"NZ\": -3 }\n",
    "    score = 0\n",
    "    a = []\n",
    "    if resname == \"ASP\":\n",
    "        a = mol.get(\"name\", sel=\"name O N OH OG1 OG OE1 NE2 ND2 OE2 SG NE NE1 ND1 NH1 OD1 OD2 NZ NH2 and within 6 of name OD1 OD2 and resid \"+str(resid))\n",
    "        for element in a:\n",
    "            try:\n",
    "                score += aa_score_acid[element]\n",
    "            except:\n",
    "                continue\n",
    "\n",
    "    elif resname == \"GLU\":\n",
    "        a = mol.get(\"name\", sel=\"name O N OH OG1 OG OE1 NE2 ND2 OE2 SG NE NE1 ND1 NH1 OD1 OD2 NZ NH2 and within 6 of name OE1 OE2 and resid \"+str(resid))\n",
    "        for element in a:\n",
    "            try:\n",
    "                score += aa_score_acid[element]\n",
    "            except:\n",
    "                continue\n",
    "\n",
    "    elif resname == \"LYS\":\n",
    "        a = mol.get(\"name\", sel=\"name O N OH OG1 OG OE1 NE2 ND2 OE2 SG NE NE1 ND1 NH1 OD1 OD2 NZ NH2 and within 6 of name NZ and resid \"+str(resid))\n",
    "        for element in a:\n",
    "            try:\n",
    "                score += aa_score_base[element]\n",
    "            except:\n",
    "                continue\n",
    "\n",
    "    elif resname == \"ARG\":\n",
    "        a = mol.get(\"name\", sel=\"name O N OH OG1 OG OE1 NE2 ND2 OE2 SG NE NE1 ND1 NH1 OD1 OD2 NZ NH2 and within 6 of name NH1 NH2 NE and resid \"+str(resid))\n",
    "        for element in a:\n",
    "            try:\n",
    "                score += aa_score_base[element]\n",
    "            except:\n",
    "                continue\n",
    "\n",
    "    return score"
   ]
  },
  {
   "cell_type": "markdown",
   "metadata": {},
   "source": [
    "Now, we have to change correctly the name in the original structure (mol). If we have any same_charge<->same_charge interaction we use the electrodensity to decide its protonation."
   ]
  },
  {
   "cell_type": "code",
   "execution_count": 10,
   "metadata": {
    "collapsed": false
   },
   "outputs": [],
   "source": [
    "# First, negatives amino acids\n",
    "for element in neg_list:\n",
    "    if element[0] == \"GLU\" and element[2] == \"ASP\":\n",
    "        mol.set(\"resname\", \"GLH\", \"resid \"+str(element[1]))\n",
    "    elif element[0] == \"ASP\" and element[2] == \"GLU\":\n",
    "        mol.set(\"resname\", \"GLH\", \"resid \"+str(element[3]))\n",
    "    elif element[0] == element[2]:\n",
    "        if atom_density(element[0], element[1]) > atom_density(element[2], element[3]): \n",
    "            # Amino acid with higher electrodensity is protonated\n",
    "            if element[0] == \"GLU\":\n",
    "                name = \"GLH\"\n",
    "            else:\n",
    "                name = \"ASH\"\n",
    "            mol.set(\"resname\", name, \"resid \" + str(element[1]))\n",
    "            \n",
    "        elif atom_density(element[0], element[1]) < atom_density(element[2], element[3]):\n",
    "            if element[2] == \"GLU\":\n",
    "                name = \"GLH\"\n",
    "            else:\n",
    "                name = \"ASH\"\n",
    "            mol.set(\"resname\", name, \"resid \" + str(element[3]))\n",
    "            \n",
    "        else:\n",
    "            if element[2] == \"GLU\":\n",
    "                name = \"GLH\"\n",
    "            else:\n",
    "                name = \"ASH\"\n",
    "            mol.set(\"resname\", name, \"resid \" + str(element[1]))"
   ]
  },
  {
   "cell_type": "code",
   "execution_count": 11,
   "metadata": {
    "collapsed": true
   },
   "outputs": [],
   "source": [
    "# Secondly, positive amino acids\n",
    "for element in pos_list:\n",
    "    if element[0] == \"ARG\" and element[2] == \"LYS\":\n",
    "        mol.set(\"resname\", \"LYN\", \"resid \"+str(element[3]))\n",
    "    elif element[0] == \"LYS\" and element[2] == \"ARG\":\n",
    "        mol.set(\"resname\", \"LYN\", \"resid \"+str(element[1]))\n",
    "    elif element[0] == element[2]:\n",
    "        if atom_density(element[0], element[1]) < atom_density(element[2], element[3]): \n",
    "             # Amino acid with lower electrodensity is desprotonated\n",
    "            if element[0] == \"LYS\":\n",
    "                name = \"LYN\"\n",
    "            else:\n",
    "                name = \"AR0\"\n",
    "            mol.set(\"resname\", name, \"resid \" + str(element[1]))\n",
    "            \n",
    "        elif atom_density(element[0], element[1]) > atom_density(element[2], element[3]):\n",
    "            if element[2] == \"LYS\":\n",
    "                name = \"LYN\"\n",
    "            else:\n",
    "                name = \"AR0\"\n",
    "            mol.set(\"resname\", name, \"resid \" + str(element[3]))\n",
    "            \n",
    "        else:\n",
    "            if element[2] == \"LYS\":\n",
    "                name = \"LYN\"\n",
    "            else:\n",
    "                name = \"AR0\"\n",
    "            mol.set(\"resname\", name, \"resid \" + str(element[1]))"
   ]
  },
  {
   "cell_type": "markdown",
   "metadata": {},
   "source": [
    "## HIS analysis"
   ]
  },
  {
   "cell_type": "code",
   "execution_count": 12,
   "metadata": {
    "collapsed": false
   },
   "outputs": [
    {
     "name": "stdout",
     "output_type": "stream",
     "text": [
      "HIS 40\n",
      "ND1\n",
      "['SER'] 32 ['OG']\n",
      "['PHE'] 41 ['N']\n",
      "['CYS'] 42 ['O']\n",
      "NE2\n",
      "['CYS'] 42 ['N' 'O']\n",
      "['GLY'] 193 ['O']\n",
      "HIS 57\n",
      "ND1\n",
      "['ASP'] 102 ['OD1' 'OD2']\n",
      "['SER'] 214 ['O']\n",
      "NE2\n",
      "['SER'] 195 ['OG']\n",
      "['SER'] 214 ['O']\n",
      "HIS 91\n",
      "ND1\n",
      "['SER'] 93 ['N']\n",
      "['TYR'] 94 ['N']\n",
      "NE2\n"
     ]
    }
   ],
   "source": [
    "rid = np.unique(copied.get('resid'))\n",
    "rn = copied.get('resname', \"name CA\")\n",
    "\n",
    "nd1_list = []\n",
    "ne2_list = []\n",
    "for resname, resid in zip(rn, rid):\n",
    "    if resname == \"HIS\":\n",
    "        print(resname, resid)\n",
    "        a = mol.get(\"resid\", sel=\"name O N OH OG1 OG OE1 NE2 ND2 OE2 SG NE NE1 ND1 NH1 OD1 OD2 NZ NH2 and within 4 of name ND1 and resid \"+str(resid))\n",
    "        un = np.unique(a)\n",
    "        print (\"ND1\")\n",
    "        for residueID in un:\n",
    "            try:\n",
    "                l = len(np.unique(mol.get(\"resname\", sel=\"resid \"+str(residueID))))\n",
    "                if l > 1:\n",
    "                    for i in range(0, l):\n",
    "                        if residueID != resid:\n",
    "                            res = np.unique(mol.get(\"resname\", sel=\"resid \"+str(residueID)))\n",
    "                            if res == \"PRO\":\n",
    "                                continue\n",
    "                            atoms = mol.get(\"name\" , sel=\"name O N OH OG1 OG OE1 NE2 ND2 OE2 SG NE NE1 ND1 NH1 OD1 OD2 NZ NH2 and resid \"+str(residueID)+\" and within 4 of name ND1 and resid \"+str(resid))\n",
    "                            tup = (res, residueID, atoms)\n",
    "                            nd1_list.append(tup)\n",
    "                           \n",
    "                            print(np.unique(mol.get(\"resname\", sel=\"resid \"+str(residueID))), residueID, atoms)\n",
    "                else:\n",
    "                    if residueID != resid:\n",
    "                        res = np.unique(mol.get(\"resname\", sel=\"resid \"+str(residueID)))\n",
    "                        if res == \"PRO\":\n",
    "                                continue\n",
    "                        atoms = mol.get(\"name\" , sel=\"name O N OH OG1 OG OE1 NE2 ND2 OE2 SG NE NE1 ND1 NH1 OD1 OD2 NZ NH2 and resid \"+str(residueID)+\" and within 4 of name ND1 and resid \"+str(resid))\n",
    "                        tup = (res, residueID, atoms)\n",
    "                        nd1_list.append(tup)\n",
    "                        print(np.unique(mol.get(\"resname\", sel=\"resid \"+str(residueID))), residueID, atoms)\n",
    "            except:\n",
    "                print(\"Error at \" + np.unique(mol.get(\"resname\", sel=\"resid \"+str(residueID))), residueID)\n",
    "                continue\n",
    "                \n",
    "        a = mol.get(\"resid\", sel=\"name O N OH OG1 OG OE1 NE2 ND2 OE2 SG NE NE1 ND1 NH1 OD1 OD2 NZ NH2 and within 4 of name NE2 and resid \"+str(resid))\n",
    "        un = np.unique(a)\n",
    "        print (\"NE2\")\n",
    "        for residueID in un:\n",
    "            try:\n",
    "                l = len(np.unique(mol.get(\"resname\", sel=\"resid \"+str(residueID))))\n",
    "                if l > 1:\n",
    "                    for i in range(0, l):\n",
    "                        if residueID != resid:\n",
    "                            res = np.unique(mol.get(\"resname\", sel=\"resid \"+str(residueID)))\n",
    "                            if res == \"PRO\":\n",
    "                                continue\n",
    "                            atoms = mol.get(\"name\" , sel=\"name O N OH OG1 OG OE1 NE2 ND2 OE2 SG NE NE1 ND1 NH1 OD1 OD2 NZ NH2 and resid \"+str(residueID)+\" and within 4 of name NE2 and resid \"+str(resid))\n",
    "                            tup = (res, residueID, atoms)\n",
    "                            ne2_list.append(tup)\n",
    "                            print(np.unique(mol.get(\"resname\", sel=\"resid \"+str(residueID))), residueID, atoms)\n",
    "                else:\n",
    "                    \n",
    "                    if residueID != resid:\n",
    "                        res = np.unique(mol.get(\"resname\", sel=\"resid \"+str(residueID)))\n",
    "                        if res == \"PRO\":\n",
    "                                continue\n",
    "                        atoms = mol.get(\"name\" , sel=\"name O N OH OG1 OG OE1 NE2 ND2 OE2 SG NE NE1 ND1 NH1 OD1 OD2 NZ NH2 and resid \"+str(residueID)+\" and within 4 of name NE2 and resid \"+str(resid))\n",
    "                        tup = (res, residueID, atoms)\n",
    "                        ne2_list.append(tup)\n",
    "                        \n",
    "                        print(np.unique(mol.get(\"resname\", sel=\"resid \"+str(residueID))), residueID, atoms)\n",
    "            except:\n",
    "                print(\"Error at \" + np.unique(mol.get(\"resname\", sel=\"resid \"+str(residueID))), residueID)\n",
    "                continue\n",
    "                \n",
    "        # I'll try to discriminate which nitrogen has to be protonated with something similar\n",
    "        # as a  \"scoring method\", based on h-bond capacity \n",
    "        # (source: http://www.imgt.org/IMGTeducation/Aide-memoire/_UK/aminoacids/charge/)\n",
    "        # If it can be both donor and acceptor, first the environment is evaluated and then \n",
    "        # it scores. Also, if both nitrogens have an acidic aa near, it protonates that \n",
    "        # histidine. \n",
    "        nd1_negativech = False\n",
    "        ne2_negativech = False\n",
    "        nd1_lvl = 0\n",
    "        ne2_lvl = 0\n",
    "        aa_score = {\"O\": 2, \"OD1\": 2, \"OE1\": 2, \"OE2\": 2, \"OD2\": 2,\"SG\": -1, \"N\": -1, \"NE\": -1, \"NE1\": -1, \"ND2\": -2, \"NH1\": -2, \"NH2\": -2, \"NZ\": -3 }\n",
    "        # Over-score the negative charges (positive can be identified)\"\n",
    "        # First, we start by iterating for every aa found around HIS\n",
    "        for aa in nd1_list:\n",
    "            # Check if a negative aminoacid is near\n",
    "            if aa[0] in [\"ASP\", \"GLU\"]:\n",
    "                nd1_negativech = True\n",
    "                nd1_lvl += 2\n",
    "            # Then, we iterate for every atom found for an specific aminoacid \n",
    "            # (usually only 1 atom)\n",
    "            for atom in aa[2]:\n",
    "                if atom in aa_score:\n",
    "                    nd1_lvl += aa_score[atom]\n",
    "                # There are atoms that can be donors or acceptors, so we check if the index is\n",
    "                # positive or negative to apply a mitigation effect\n",
    "                elif atom == \"OG\": #Serine\n",
    "                    if nd1_lvl <0:\n",
    "                        nd1_lvl += 2\n",
    "                    elif nd1_lvl >= 0:\n",
    "                        nd1_lvl -=1\n",
    "                elif atom == \"OG1\": #Threonine\n",
    "                    if nd1_lvl <0:\n",
    "                        nd1_lvl += 2\n",
    "                    elif nd1_lvl >= 0:\n",
    "                        nd1_lvl -=1\n",
    "                elif atom == \"OH\": #Tyrosine\n",
    "                    if nd1_lvl <0:\n",
    "                        nd1_lvl += 1\n",
    "                    elif nd1_lvl >= 0:\n",
    "                        nd1_lvl -=1\n",
    "                elif atom == \"NE2\": # Other HIS or GLN\n",
    "                    if aa[0] == \"GLN\":\n",
    "                        nd1_lvl -= 2\n",
    "                    elif aa[0] == \"HID\":\n",
    "                        nd1_lvl += 1\n",
    "                    elif aa[0] == \"HIE\":\n",
    "                        nd1_lvl -= 1\n",
    "                    elif aa[0] == \"HIP\":\n",
    "                        nd1_lvl -= 1\n",
    "                    elif aa[0] == \"HIS\":\n",
    "                        if nd1_lvl <0:\n",
    "                            nd1_lvl += 1\n",
    "                        elif nd1_lvl >= 0:\n",
    "                            nd1_lvl -=1    \n",
    "                elif atom == \"ND1\": # Other HIS or GLN\n",
    "                    if aa[0] == \"HID\":\n",
    "                        nd1_lvl -= 1\n",
    "                    elif aa[0] == \"HIE\":\n",
    "                        nd1_lvl += 1\n",
    "                    elif aa[0] == \"HIP\":\n",
    "                        nd1_lvl -= 1\n",
    "                    elif aa[0] == \"HIS\":\n",
    "                        if nd1_lvl <0:\n",
    "                            nd1_lvl += 1\n",
    "                        elif nd1_lvl >= 0:\n",
    "                            nd1_lvl -=1 \n",
    "        for aa in ne2_list:\n",
    "            # Check if a negative aminoacid is near\n",
    "            if aa[0] in [\"ASP\", \"GLU\", \"TYM\"]:\n",
    "                ne2_negativech = True\n",
    "                ne2_lvl += 2\n",
    "            # Then, we iterate for every atom found for an specific aminoacid \n",
    "            # (usually only 1 atom)\n",
    "            for atom in aa[2]:\n",
    "                if atom in aa_score:\n",
    "                    ne2_lvl += aa_score[atom]\n",
    "                # There are atoms that can be donors or acceptors, so we check if the index is\n",
    "                # positive or negative to apply a mitigation effect\n",
    "                elif atom == \"OG\": #Serine\n",
    "                    if ne2_lvl <0:\n",
    "                        ne2_lvl += 2\n",
    "                    elif ne2_lvl >= 0:\n",
    "                        ne2_lvl -=1\n",
    "                elif atom == \"OG1\": #Threonine\n",
    "                    if ne2_lvl <0:\n",
    "                        ne2_lvl += 2\n",
    "                    elif ne2_lvl >= 0:\n",
    "                        ne2_lvl -=1\n",
    "                elif atom == \"OH\": #Tyrosine\n",
    "                    if ne2_lvl <0:\n",
    "                        ne2_lvl += 1\n",
    "                    elif ne2_lvl >= 0:\n",
    "                        ne2_lvl -=1\n",
    "                elif atom == \"NE2\": # Other HIS or GLN\n",
    "                    if aa[0] == \"GLN\":\n",
    "                        ne2_lvl -= 2\n",
    "                    elif aa[0] == \"HID\":\n",
    "                        ne2_lvl += 1\n",
    "                    elif aa[0] == \"HIE\":\n",
    "                        ne2_lvl -= 1\n",
    "                    elif aa[0] == \"HIP\":\n",
    "                        ne2_lvl -= 1\n",
    "                    elif aa[0] == \"HIS\":\n",
    "                        if nd1_lvl <0:\n",
    "                            ne2_lvl += 1\n",
    "                        elif nd1_lvl >= 0:\n",
    "                            ne2_lvl -=1    \n",
    "                elif atom == \"ND1\": # Other HIS or GLN\n",
    "                    if aa[0] == \"HID\":\n",
    "                        ne2_lvl -= 1\n",
    "                    elif aa[0] == \"HIE\":\n",
    "                        ne2_lvl += 1\n",
    "                    elif aa[0] == \"HIP\":\n",
    "                        ne2_lvl -= 1\n",
    "                    elif aa[0] == \"HIS\":\n",
    "                        if ne2_lvl <0:\n",
    "                            ne2_lvl += 1\n",
    "                        elif ne2_lvl >= 0:\n",
    "                            ne2_lvl -=1\n",
    "        # Okay, scoring made, let's decide the protonation!\n",
    "        if nd1_negativech and ne2_negativech:\n",
    "            mol.set(\"resname\", \"HIP\", \"resname \"+str(resname)+\" and resid \"+str(resid))   \n",
    "        if nd1_lvl >= ne2_lvl:\n",
    "            mol.set(\"resname\", \"HID\", \"resname \"+str(resname)+\" and resid \"+str(resid))\n",
    "        elif nd1_lvl < ne2_lvl:\n",
    "            mol.set(\"resname\", \"HIE\", \"resname \"+str(resname)+\" and resid \"+str(resid))"
   ]
  },
  {
   "cell_type": "markdown",
   "metadata": {},
   "source": [
    "Here, we can see the different amino acids that we have now in our molecule:"
   ]
  },
  {
   "cell_type": "code",
   "execution_count": 13,
   "metadata": {
    "collapsed": false
   },
   "outputs": [
    {
     "data": {
      "text/plain": [
       "array(['ALA', 'ARG', 'ASN', 'ASP', 'CYS', 'GLH', 'GLN', 'GLU', 'GLY',\n",
       "       'HID', 'HIE', 'ILE', 'LEU', 'LYS', 'MET', 'PHE', 'PRO', 'SER',\n",
       "       'THR', 'TRP', 'TYR', 'VAL'], dtype=object)"
      ]
     },
     "execution_count": 13,
     "metadata": {},
     "output_type": "execute_result"
    }
   ],
   "source": [
    "np.unique(mol.get('resname', sel='protein'))"
   ]
  }
 ],
 "metadata": {
  "kernelspec": {
   "display_name": "Python 3",
   "language": "python",
   "name": "python3"
  },
  "language_info": {
   "codemirror_mode": {
    "name": "ipython",
    "version": 3
   },
   "file_extension": ".py",
   "mimetype": "text/x-python",
   "name": "python",
   "nbconvert_exporter": "python",
   "pygments_lexer": "ipython3",
   "version": "3.5.1"
  }
 },
 "nbformat": 4,
 "nbformat_minor": 0
}
