{
 "cells": [
  {
   "cell_type": "code",
   "execution_count": 2,
   "metadata": {
    "collapsed": false
   },
   "outputs": [
    {
     "name": "stdout",
     "output_type": "stream",
     "text": [
      "Please cite. HTMD: High-Throughput Molecular Dynamics for Molecular Discovery, J. Chem. Theory Comput., 2016, 12 (4), pp 1845-1852. \n",
      "http://pubs.acs.org/doi/abs/10.1021/acs.jctc.6b00049\n",
      "\n",
      "\n",
      "Failed connecting to http://conda.anaconda.org. Cannot check for new HTMD versions.\n",
      "You are on the latest HTMD version (1.0.26).\n"
     ]
    }
   ],
   "source": [
    "from htmd import *"
   ]
  },
  {
   "cell_type": "code",
   "execution_count": 7,
   "metadata": {
    "collapsed": false
   },
   "outputs": [
    {
     "name": "stderr",
     "output_type": "stream",
     "text": [
      "2016-06-14 11:36:55,081 - htmd.molecule.molecule - INFO - Attempting PDB query for 3PTB\n"
     ]
    }
   ],
   "source": [
    "mol = Molecule('3PTB')"
   ]
  },
  {
   "cell_type": "markdown",
   "metadata": {},
   "source": [
    "KNOWN:\n",
    "   - Donors:\n",
    "        - ARG protonated* name NH1 NH2\n",
    "        - LYS protonated* name NZ\n",
    "   - Acceptors:\n",
    "        - ASP deprotonated* name OD2 OD1\n",
    "        - GLU deprotonated* name OE1 OE2\n",
    "\n",
    "UNKNWON:\n",
    "   - TYR name OH\n",
    "   - HIS – There are 6 alternates for HIS, two rotomers and then 3 protonation states for each name ND1 NE2\n",
    "   - CYS – disulfide bonded or not – name SG\n",
    "\n",
    "CONFLICT:\n",
    "   - ASN – There are 2 alternates – simple 180 degree rotations name ND2 OD1\n",
    "   - GLN – There are 2 alternates – simple 180 degree rotations name OE1 NE2\n",
    "   - SER name OG\n",
    "   - THR name OG1\n",
    "\n",
    "Backbone name O, N\n",
    "   \n",
    "UNCLASSIFIED: \n",
    "   - ALA\n",
    "   - GLY\n",
    "   - ILE\n",
    "   - LEU\n",
    "   - PRO \n",
    "   - VAL\n",
    "   - MET"
   ]
  },
  {
   "cell_type": "code",
   "execution_count": 10,
   "metadata": {
    "collapsed": true
   },
   "outputs": [],
   "source": [
    "mol.view()"
   ]
  },
  {
   "cell_type": "code",
   "execution_count": 19,
   "metadata": {
    "collapsed": false
   },
   "outputs": [],
   "source": [
    "copied = mol.copy()"
   ]
  },
  {
   "cell_type": "code",
   "execution_count": 41,
   "metadata": {
    "collapsed": false
   },
   "outputs": [],
   "source": [
    "copied.filter('resname ARG LYS ASP GLU HIS CYS TYR')"
   ]
  },
  {
   "cell_type": "code",
   "execution_count": 44,
   "metadata": {
    "collapsed": false
   },
   "outputs": [],
   "source": [
    "rid = np.unique(copied.get('resid')) # ia.resid also works!\n",
    "rn = copied.get('resname', \"name CA\")"
   ]
  },
  {
   "cell_type": "code",
   "execution_count": 53,
   "metadata": {
    "collapsed": false
   },
   "outputs": [
    {
     "name": "stdout",
     "output_type": "stream",
     "text": [
      "[37 39 60] resid 60\n",
      "[ 87 245] resid 87\n",
      "[107 245 713] resid 107\n",
      "[109] resid 109\n",
      "[145 728] resid 145\n",
      "[ 21 156] resid 156\n",
      "[ 20 159] resid 159\n",
      "[165 169] resid 169\n",
      "[188] resid 188\n",
      "[202 204] resid 204\n",
      "[222] resid 222\n",
      "[171 224] resid 224\n",
      "[230] resid 230\n",
      "[235 236 239] resid 239\n"
     ]
    }
   ],
   "source": [
    "for resname, resid in zip(rn, rid):\n",
    "    if resname == \"LYS\":\n",
    "        a = mol.get(\"resid\", sel=\"name O N OH OG1 OG OE1 NE2 ND2 OE2 SG ND1 NH1 OD1 OD2 NZ NH2 and within 4 of name NZ and resid \"+str(resid))\n",
    "        print(a, \"resid\", resid)"
   ]
  },
  {
   "cell_type": "code",
   "execution_count": 48,
   "metadata": {
    "collapsed": false
   },
   "outputs": [
    {
     "data": {
      "text/plain": [
       "array(['C', 'CA', 'CB', 'CD', 'CE', 'CG', 'N', 'NZ', 'O'], dtype=object)"
      ]
     },
     "execution_count": 48,
     "metadata": {},
     "output_type": "execute_result"
    }
   ],
   "source": [
    "np.unique(mol.get(\"name\",\"resname LYS\"))"
   ]
  },
  {
   "cell_type": "code",
   "execution_count": null,
   "metadata": {
    "collapsed": true
   },
   "outputs": [],
   "source": []
  }
 ],
 "metadata": {
  "kernelspec": {
   "display_name": "Python 3",
   "language": "python",
   "name": "python3"
  },
  "language_info": {
   "codemirror_mode": {
    "name": "ipython",
    "version": 3
   },
   "file_extension": ".py",
   "mimetype": "text/x-python",
   "name": "python",
   "nbconvert_exporter": "python",
   "pygments_lexer": "ipython3",
   "version": "3.5.1"
  }
 },
 "nbformat": 4,
 "nbformat_minor": 0
}
