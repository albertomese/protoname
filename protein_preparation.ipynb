{
 "cells": [
  {
   "cell_type": "code",
   "execution_count": 3,
   "metadata": {
    "collapsed": false
   },
   "outputs": [],
   "source": [
    "from htmd import *"
   ]
  },
  {
   "cell_type": "code",
   "execution_count": 4,
   "metadata": {
    "collapsed": false
   },
   "outputs": [
    {
     "name": "stderr",
     "output_type": "stream",
     "text": [
      "2016-06-07 09:29:31,560 - htmd.molecule.molecule - INFO - Attempting PDB query for 3PTB\n"
     ]
    }
   ],
   "source": [
    "mol = Molecule('3PTB')"
   ]
  },
  {
   "cell_type": "markdown",
   "metadata": {},
   "source": [
    "KNOWN:\n",
    "   - Donors:\n",
    "        - ARG protonated*\n",
    "        - LYS protonated*\n",
    "        - TRP\n",
    "   - Acceptors:\n",
    "        - ASP deprotonated*\n",
    "        - GLU deprotonated*\n",
    "\n",
    "UNKNWON:\n",
    "   - SER\n",
    "   - THR\n",
    "   - TYR\n",
    "   - HIS – There are 6 alternates for HIS, two rotomers and then 3 protonation states for each\n",
    "   - ASP – There are 2 alternates – simple 180 degree rotations\n",
    "   - GLN – There are 2 alternates – simple 180 degree rotations\n",
    "   - CYS – disulfide bonded or not –\n",
    "\n",
    " \n",
    "UNCLASSIFIED: \n",
    "   - ALA\n",
    "   - GLY\n",
    "   - ILE\n",
    "   - LEU\n",
    "   - PRO \n",
    "   - VAL\n",
    "   - MET\n",
    "   - ASN"
   ]
  },
  {
   "cell_type": "code",
   "execution_count": 10,
   "metadata": {
    "collapsed": true
   },
   "outputs": [],
   "source": [
    "mol.view()"
   ]
  },
  {
   "cell_type": "code",
   "execution_count": null,
   "metadata": {
    "collapsed": true
   },
   "outputs": [],
   "source": []
  }
 ],
 "metadata": {
  "kernelspec": {
   "display_name": "Python 3",
   "language": "python",
   "name": "python3"
  },
  "language_info": {
   "codemirror_mode": {
    "name": "ipython",
    "version": 3
   },
   "file_extension": ".py",
   "mimetype": "text/x-python",
   "name": "python",
   "nbconvert_exporter": "python",
   "pygments_lexer": "ipython3",
   "version": "3.5.1"
  }
 },
 "nbformat": 4,
 "nbformat_minor": 0
}
